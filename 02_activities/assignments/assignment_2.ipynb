{
 "cells": [
  {
   "cell_type": "markdown",
   "id": "7c6788aef474ca12",
   "metadata": {
    "collapsed": false,
    "id": "7c6788aef474ca12",
    "jupyter": {
     "outputs_hidden": false
    }
   },
   "source": [
    "# Text Generation with Recurrent Neural Networks (RNNs)\n",
    "\n",
    "In this assignment, you'll build upon your understanding of RNNs and Keras to develop a word-level text generation model.  Your goal is to train a model that learns the stylistic nuances of a chosen corpus and generates new, original text segments that echo the source material's essence.\n",
    "\n",
    "**Datasets**\n",
    "\n",
    "We've provided several intriguing text corpora to get you started:\n",
    "\n",
    "*   Mark Twain\n",
    "*   Charles Dickens\n",
    "*   William Shakespeare\n",
    "\n",
    "**Feel free to explore!**  If you have a particular passion for another author, genre, or a specific text, you're encouraged to use your own dataset of raw text."
   ]
  },
  {
   "cell_type": "code",
   "execution_count": null,
   "id": "2d0bfedcfe52aedc",
   "metadata": {
    "colab": {
     "base_uri": "https://localhost:8080/"
    },
    "id": "2d0bfedcfe52aedc",
    "outputId": "e085c104-4c83-4392-8784-f3f1e8c4ce3d"
   },
   "outputs": [
    {
     "name": "stdout",
     "output_type": "stream",
     "text": [
      "Default GPU Device: /device:GPU:0\n"
     ]
    }
   ],
   "source": [
    "# Check if we have a GPU available\n",
    "import tensorflow as tf\n",
    "if tf.test.gpu_device_name():\n",
    "    print('Default GPU Device: {}'.format(tf.test.gpu_device_name()))\n",
    "else:\n",
    "    print(\"No GPU available. If you're on Colab, go to Runtime > Change runtime and select a GPU hardware accelerator.\")"
   ]
  },
  {
   "cell_type": "code",
   "id": "9c28c497f620b775",
   "metadata": {
    "id": "9c28c497f620b775",
    "jupyter": {
     "is_executing": true
    }
   },
   "source": [
    "def download_file(url, file_path):\n",
    "    import requests\n",
    "    r = requests.get(url)\n",
    "    with open(file_path, 'wb') as f:\n",
    "        f.write(r.content)\n",
    "\n",
    "def load_dataset(file_path, fraction=1.0):\n",
    "    with open(file_path, 'r', encoding='utf-8') as f:\n",
    "        raw_text = f.read()\n",
    "    return raw_text[:int(fraction * len(raw_text))]\n",
    "\n",
    "dataset = 'shakespeare.txt' # Other options are mark_twain.txt, charles_dickens.txt\n",
    "\n",
    "download_file(f'https://github.com/UofT-DSI/deep_learning/raw/main/assignments/downloaded_books/' + dataset, dataset)\n",
    "\n",
    "# Load chosen dataset. NOTE: If Colab is running out of memory, change the `fraction` parameter to a value between 0 and 1 to load less data.\n",
    "text = load_dataset(dataset, fraction=0.1)"
   ],
   "outputs": [],
   "execution_count": null
  },
  {
   "cell_type": "markdown",
   "id": "dab51c764031e606",
   "metadata": {
    "collapsed": false,
    "id": "dab51c764031e606",
    "jupyter": {
     "outputs_hidden": false
    }
   },
   "source": [
    "# 1. Data Preparation (Complete or Incomplete)\n",
    "\n",
    "Before we can begin training an RNN model, we need to prepare the dataset. This involves cleaning the text, tokenizing words, and creating sequences the model can be trained on.\n",
    "\n",
    "## 1.1 Data Exploration\n",
    "\n",
    "Print the first 1000 characters of the dataset. Report the dataset's size and the number of unique characters it contains."
   ]
  },
  {
   "cell_type": "code",
   "id": "BunkZmdkl0Wn",
   "metadata": {
    "id": "BunkZmdkl0Wn",
    "jupyter": {
     "is_executing": true
    }
   },
   "source": [
    "# Display the first 1000 characters of the dataset\n",
    "print(\"First 1000 characters of the dataset:\")\n",
    "print(text[:1000])\n",
    "\n",
    "# Report the dataset's size\n",
    "dataset_size = len(text)\n",
    "print(\"\\nDataset size (number of characters):\", dataset_size)\n",
    "\n",
    "# Count the number of unique characters in the dataset\n",
    "unique_characters = set(text)\n",
    "num_unique_characters = len(unique_characters)\n",
    "print(\"Number of unique characters:\", num_unique_characters)"
   ],
   "outputs": [],
   "execution_count": null
  },
  {
   "cell_type": "markdown",
   "id": "3ae1639f5ecfe587",
   "metadata": {
    "collapsed": false,
    "id": "3ae1639f5ecfe587",
    "jupyter": {
     "outputs_hidden": false
    }
   },
   "source": [
    "## 1.2 Text Pre-Processing\n",
    "\n",
    "To prepare the dataset for training, we need to clean the text and create a numerical representation the model can interpret. Perform the following pre-processing steps:\n",
    "\n",
    "*   Convert the entire text to lowercase.\n",
    "*   Use the `Tokenizer` class from the `keras.preprocessing.text` module to tokenize the text. You should fit the tokenizer on the text and then convert the text to a sequence of numbers. You can use the `texts_to_sequences` method to do this.\n",
    "\n",
    "**Note**:\n",
    "* You'll need to specify an appropriate size for the vocabulary. The number of words in the list of most common words can serve as a guide - does it seem like a reasonable vocabulary size?\n",
    "* Some of the words will be excluded from the vocabulary, as they don't appear often enough. It's important to provide a value for `oov_token` when creating the Tokenizer instance, so that these words can be represented as \"unknown\"."
   ]
  },
  {
   "cell_type": "code",
   "execution_count": null,
   "id": "4d0d30cd98ea453c",
   "metadata": {
    "colab": {
     "base_uri": "https://localhost:8080/"
    },
    "id": "4d0d30cd98ea453c",
    "outputId": "86c87cfc-d76e-4f33-fd99-3de05e319477"
   },
   "outputs": [
    {
     "name": "stdout",
     "output_type": "stream",
     "text": [
      "Vocabulary Size: 746\n",
      "First 20 tokens in the sequence: [316, 103, 103, 317, 219, 17, 36, 220, 84, 17, 55, 57, 55, 17, 51, 57, 51, 17, 221, 318]\n",
      "Word Index (first 10 words): {'<OOV>': 1, 'github': 2, 'script': 3, 'defer': 4, 'js': 5, 'com': 6, 'https': 7, 'assets': 8, 'githubassets': 9, 'crossorigin': 10}\n"
     ]
    }
   ],
   "source": [
    "from tensorflow.keras.preprocessing.text import Tokenizer\n",
    "\n",
    "# Your code here\n",
    "\n",
    "text = text.lower()\n",
    "\n",
    "# Initialize the tokenizer with an OOV token\n",
    "OOV_TOKEN = \"<OOV>\"\n",
    "tokenizer = Tokenizer(oov_token=OOV_TOKEN)\n",
    "\n",
    "# Fit the tokenizer on the text\n",
    "tokenizer.fit_on_texts([text])\n",
    "\n",
    "# Determine the size of the vocabulary\n",
    "VOCAB_SIZE = len(tokenizer.word_index) + 1  # +1 for the OOV token\n",
    "\n",
    "# Convert text to sequences\n",
    "sequences = tokenizer.texts_to_sequences([text])[0]\n",
    "\n",
    "# Print some information about the tokenization\n",
    "print(\"Vocabulary Size:\", VOCAB_SIZE)\n",
    "print(\"First 20 tokens in the sequence:\", sequences[:20])\n",
    "try:\n",
    "    print(\"Word Index (first 10 words):\", dict(list(tokenizer.word_index.items())[:10]))\n",
    "except AttributeError:\n",
    "    print(\"Tokenizer has not been initialized. Possible issue: Complete the relevant section of the assignment to initialize it.\"\n",
    ")\n",
    "\n"
   ]
  },
  {
   "cell_type": "markdown",
   "id": "89d32bb9356f711",
   "metadata": {
    "collapsed": false,
    "id": "89d32bb9356f711",
    "jupyter": {
     "outputs_hidden": false
    }
   },
   "source": [
    "If everything worked, the following line should show you the first 10 words in the vocabulary:"
   ]
  },
  {
   "cell_type": "code",
   "execution_count": null,
   "id": "6a7cd547a19feece",
   "metadata": {
    "colab": {
     "base_uri": "https://localhost:8080/"
    },
    "id": "6a7cd547a19feece",
    "outputId": "2aef407f-570b-431f-fdb8-8441ff724286"
   },
   "outputs": [
    {
     "name": "stdout",
     "output_type": "stream",
     "text": [
      "[('<OOV>', 1), ('github', 2), ('script', 3), ('defer', 4), ('js', 5), ('com', 6), ('https', 7), ('assets', 8), ('githubassets', 9), ('crossorigin', 10)]\n"
     ]
    }
   ],
   "source": [
    "try:\n",
    "    print(list(tokenizer.word_index.items())[:10])\n",
    "except AttributeError:\n",
    "    print(\"Tokenizer has not been initialized. Possible issue: Complete the relevant section of the assignment to initialize it.\"\n",
    ")\n"
   ]
  },
  {
   "cell_type": "markdown",
   "id": "da504e4bc6617613",
   "metadata": {
    "collapsed": false,
    "id": "da504e4bc6617613",
    "jupyter": {
     "outputs_hidden": false
    }
   },
   "source": [
    "## 1.3 Sequence Generation\n",
    "\n",
    "Now that the text has been tokenized, we need to create sequences the model can be trained on. There are two parts to this:\n",
    "\n",
    "*   Use the `texts_to_sequences` method from the tokenizer to convert the text to a list of sequences of numbers.\n",
    "*   Generate the training sequences. Each training sequence should contain `SEQ_LENGTH` token IDs from the text. The target token for each sequence should be the word that follows the sequence in the text."
   ]
  },
  {
   "cell_type": "code",
   "execution_count": null,
   "id": "4ff5fc8d0273709c",
   "metadata": {
    "colab": {
     "base_uri": "https://localhost:8080/"
    },
    "id": "4ff5fc8d0273709c",
    "outputId": "78f3bf30-e28c-49c3-dc1f-a56a1b967c28"
   },
   "outputs": [
    {
     "name": "stdout",
     "output_type": "stream",
     "text": [
      "Shape of X: (3611, 50)\n",
      "Shape of y: (3611,)\n",
      "First input sequence: [316 103 103 317 219  17  36 220  84  17  55  57  55  17  51  57  51  17\n",
      " 221 318 222 319  17 221  24 320  52 172  15 321 322 223  24  28 125 126\n",
      "  25   7   2   9   6  24  28 125 126  25   7 224 173   6]\n",
      "First target word index: 24\n",
      "First target word: link\n"
     ]
    }
   ],
   "source": [
    "import numpy as np\n",
    "\n",
    "# Define sequence length\n",
    "SEQ_LENGTH = 50  # Choose an appropriate sequence length\n",
    "\n",
    "# Convert the text to a list of sequences of numbers\n",
    "sequences = tokenizer.texts_to_sequences([text])[0]\n",
    "\n",
    "# Generate the training sequences\n",
    "X = []\n",
    "y = []\n",
    "\n",
    "for i in range(SEQ_LENGTH, len(sequences)):\n",
    "    sequence_extract = sequences[i-SEQ_LENGTH:i]\n",
    "    target = sequences[i]\n",
    "\n",
    "    # Append to the lists\n",
    "    X.append(sequence_extract)\n",
    "    y.append(target)\n",
    "\n",
    "X = np.array(X)\n",
    "y = np.array(y)\n",
    "\n",
    "print(\"Shape of X:\", X.shape)\n",
    "print(\"Shape of y:\", y.shape)\n",
    "\n",
    "print(\"First input sequence:\", X[0])\n",
    "print(\"First target word index:\", y[0])\n",
    "print(\"First target word:\", tokenizer.index_word[y[0]])\n"
   ]
  },
  {
   "cell_type": "markdown",
   "id": "3b6bdc0deb930df1",
   "metadata": {
    "collapsed": false,
    "id": "3b6bdc0deb930df1",
    "jupyter": {
     "outputs_hidden": false
    }
   },
   "source": [
    "Assuming your sequences are stored in `X` and the corresponding targets in `y`, the following line should print the first training sequence and its target:"
   ]
  },
  {
   "cell_type": "code",
   "execution_count": null,
   "id": "a495cab04001ce92",
   "metadata": {
    "colab": {
     "base_uri": "https://localhost:8080/"
    },
    "id": "a495cab04001ce92",
    "outputId": "e714a970-7a95-4da7-b793-346f8620dbd8"
   },
   "outputs": [
    {
     "name": "stdout",
     "output_type": "stream",
     "text": [
      "Sequence: [316 103 103 317 219  17  36 220  84  17  55  57  55  17  51  57  51  17\n",
      " 221 318 222 319  17 221  24 320  52 172  15 321 322 223  24  28 125 126\n",
      "  25   7   2   9   6  24  28 125 126  25   7 224 173   6]\n",
      "Target: 24\n",
      "Translated back to words: ['doctype', 'html', 'html', 'lang', 'en', 'data', 'color', 'mode', 'auto', 'data', 'light', 'theme', 'light', 'data', 'dark', 'theme', 'dark', 'data', 'a11y', 'animated', 'images', 'system', 'data', 'a11y', 'link', 'underlines', 'true', 'head', 'meta', 'charset', 'utf', '8', 'link', 'rel', 'dns', 'prefetch', 'href', 'https', 'github', 'githubassets', 'com', 'link', 'rel', 'dns', 'prefetch', 'href', 'https', 'avatars', 'githubusercontent', 'com'] -> link\n"
     ]
    }
   ],
   "source": [
    "if len(X) > 0 and len(y) > 0:\n",
    "    print(f'Sequence: {X[0]}\\nTarget: {y[0]}')\n",
    "    print(f'Translated back to words: {[tokenizer.index_word[i] for i in X[0]]} -> {tokenizer.index_word[y[0]]}')\n",
    "else:\n",
    "    print(\"Training sequences have not been generated. Possible issue: Complete the relevant section of the assignment to initialize it.\")\n"
   ]
  },
  {
   "cell_type": "markdown",
   "id": "d5bb2c55da17aaa0",
   "metadata": {
    "collapsed": false,
    "id": "d5bb2c55da17aaa0",
    "jupyter": {
     "outputs_hidden": false
    }
   },
   "source": [
    "And the following code will transform y into a one-hot encoded matrix, and split everything into training and validation sets:"
   ]
  },
  {
   "cell_type": "code",
   "execution_count": null,
   "id": "3a929b2e6c2cc921",
   "metadata": {
    "colab": {
     "base_uri": "https://localhost:8080/"
    },
    "id": "3a929b2e6c2cc921",
    "outputId": "dac2d9ed-b46d-408f-dafd-883b4cf9ab47"
   },
   "outputs": [
    {
     "name": "stdout",
     "output_type": "stream",
     "text": [
      "X_train shape: (2888, 50)\n",
      "y_train shape: (2888, 746)\n"
     ]
    }
   ],
   "source": [
    "from sklearn.model_selection import train_test_split\n",
    "from keras.utils import to_categorical\n",
    "import numpy as np\n",
    "\n",
    "# Ensure that tokenizer has been initialized\n",
    "if tokenizer is not None:\n",
    "    # Convert X and y to numpy arrays\n",
    "    X = np.array(X)\n",
    "    y = np.array(y)\n",
    "\n",
    "    # One last thing: let's drop any examples where the target is the OOV token - we don't want our model to predict that (boring!)\n",
    "    if OOV_TOKEN in tokenizer.word_index:\n",
    "        mask = y != tokenizer.word_index[OOV_TOKEN]\n",
    "        X = X[mask]\n",
    "        y = y[mask]\n",
    "\n",
    "    # One-hot encode the target token\n",
    "    y = to_categorical(y, num_classes=VOCAB_SIZE)\n",
    "\n",
    "    # Split the data into training and validation sets\n",
    "    X_train, X_val, y_train, y_val = train_test_split(X, y, test_size=0.2, random_state=42)\n",
    "\n",
    "    print(f'X_train shape: {X_train.shape}')\n",
    "    print(f'y_train shape: {y_train.shape}')\n",
    "else:\n",
    "    print(\"Tokenizer has not been initialized. Please initialize it and load the vocabulary before continuing.\")\n"
   ]
  },
  {
   "cell_type": "markdown",
   "id": "b6e4161897210434",
   "metadata": {
    "collapsed": false,
    "id": "b6e4161897210434",
    "jupyter": {
     "outputs_hidden": false
    }
   },
   "source": [
    "# 2. Model Development (Complete or Incomplete)\n",
    "\n",
    "With the dataset prepared, it's time to develop the RNN model. You'll need to define the architecture of the model, compile it, and prepare it for training.\n",
    "\n",
    "## 2.1 Model Architecture\n",
    "\n",
    "Define the architecture of your RNN model. You can design it however you like, but there are a few features that it's important to include:\n",
    "\n",
    "*   An embedding layer that learns a dense representation of the input tokens. You'll need to specify the input dimension (the size of the vocabulary) and the output dimension (the size of the dense representation). Remember, you can look at the documentation [here](https://keras.io/api/layers/core_layers/embedding/).\n",
    "*   At least one recurrent layer. We have learned how to use LSTM layers in class, but you can use other types of recurrent layers if you prefer. You can find the documentation [here](https://keras.io/api/layers/recurrent_layers/lstm/).\n",
    "*   A dense layer with a softmax activation function. This layer will output a probability distribution over the vocabulary, so that the model can make predictions about the next token."
   ]
  },
  {
   "cell_type": "code",
   "execution_count": null,
   "id": "9fdfaad93818fc8d",
   "metadata": {
    "colab": {
     "base_uri": "https://localhost:8080/",
     "height": 238
    },
    "id": "9fdfaad93818fc8d",
    "outputId": "40002ac2-5e22-4a3f-e877-840f20a04e14"
   },
   "outputs": [
    {
     "data": {
      "text/html": [
       "<pre style=\"white-space:pre;overflow-x:auto;line-height:normal;font-family:Menlo,'DejaVu Sans Mono',consolas,'Courier New',monospace\"><span style=\"font-weight: bold\">Model: \"sequential_2\"</span>\n",
       "</pre>\n"
      ],
      "text/plain": [
       "\u001B[1mModel: \"sequential_2\"\u001B[0m\n"
      ]
     },
     "metadata": {},
     "output_type": "display_data"
    },
    {
     "data": {
      "text/html": [
       "<pre style=\"white-space:pre;overflow-x:auto;line-height:normal;font-family:Menlo,'DejaVu Sans Mono',consolas,'Courier New',monospace\">┏━━━━━━━━━━━━━━━━━━━━━━━━━━━━━━━━━━━━━━┳━━━━━━━━━━━━━━━━━━━━━━━━━━━━━┳━━━━━━━━━━━━━━━━━┓\n",
       "┃<span style=\"font-weight: bold\"> Layer (type)                         </span>┃<span style=\"font-weight: bold\"> Output Shape                </span>┃<span style=\"font-weight: bold\">         Param # </span>┃\n",
       "┡━━━━━━━━━━━━━━━━━━━━━━━━━━━━━━━━━━━━━━╇━━━━━━━━━━━━━━━━━━━━━━━━━━━━━╇━━━━━━━━━━━━━━━━━┩\n",
       "│ embedding_2 (<span style=\"color: #0087ff; text-decoration-color: #0087ff\">Embedding</span>)              │ (<span style=\"color: #00af00; text-decoration-color: #00af00\">1</span>, <span style=\"color: #00af00; text-decoration-color: #00af00\">50</span>, <span style=\"color: #00af00; text-decoration-color: #00af00\">100</span>)                │          <span style=\"color: #00af00; text-decoration-color: #00af00\">74,600</span> │\n",
       "├──────────────────────────────────────┼─────────────────────────────┼─────────────────┤\n",
       "│ lstm_2 (<span style=\"color: #0087ff; text-decoration-color: #0087ff\">LSTM</span>)                        │ (<span style=\"color: #00af00; text-decoration-color: #00af00\">1</span>, <span style=\"color: #00af00; text-decoration-color: #00af00\">150</span>)                    │         <span style=\"color: #00af00; text-decoration-color: #00af00\">150,600</span> │\n",
       "├──────────────────────────────────────┼─────────────────────────────┼─────────────────┤\n",
       "│ dense_2 (<span style=\"color: #0087ff; text-decoration-color: #0087ff\">Dense</span>)                      │ (<span style=\"color: #00af00; text-decoration-color: #00af00\">1</span>, <span style=\"color: #00af00; text-decoration-color: #00af00\">746</span>)                    │         <span style=\"color: #00af00; text-decoration-color: #00af00\">112,646</span> │\n",
       "└──────────────────────────────────────┴─────────────────────────────┴─────────────────┘\n",
       "</pre>\n"
      ],
      "text/plain": [
       "┏━━━━━━━━━━━━━━━━━━━━━━━━━━━━━━━━━━━━━━┳━━━━━━━━━━━━━━━━━━━━━━━━━━━━━┳━━━━━━━━━━━━━━━━━┓\n",
       "┃\u001B[1m \u001B[0m\u001B[1mLayer (type)                        \u001B[0m\u001B[1m \u001B[0m┃\u001B[1m \u001B[0m\u001B[1mOutput Shape               \u001B[0m\u001B[1m \u001B[0m┃\u001B[1m \u001B[0m\u001B[1m        Param #\u001B[0m\u001B[1m \u001B[0m┃\n",
       "┡━━━━━━━━━━━━━━━━━━━━━━━━━━━━━━━━━━━━━━╇━━━━━━━━━━━━━━━━━━━━━━━━━━━━━╇━━━━━━━━━━━━━━━━━┩\n",
       "│ embedding_2 (\u001B[38;5;33mEmbedding\u001B[0m)              │ (\u001B[38;5;34m1\u001B[0m, \u001B[38;5;34m50\u001B[0m, \u001B[38;5;34m100\u001B[0m)                │          \u001B[38;5;34m74,600\u001B[0m │\n",
       "├──────────────────────────────────────┼─────────────────────────────┼─────────────────┤\n",
       "│ lstm_2 (\u001B[38;5;33mLSTM\u001B[0m)                        │ (\u001B[38;5;34m1\u001B[0m, \u001B[38;5;34m150\u001B[0m)                    │         \u001B[38;5;34m150,600\u001B[0m │\n",
       "├──────────────────────────────────────┼─────────────────────────────┼─────────────────┤\n",
       "│ dense_2 (\u001B[38;5;33mDense\u001B[0m)                      │ (\u001B[38;5;34m1\u001B[0m, \u001B[38;5;34m746\u001B[0m)                    │         \u001B[38;5;34m112,646\u001B[0m │\n",
       "└──────────────────────────────────────┴─────────────────────────────┴─────────────────┘\n"
      ]
     },
     "metadata": {},
     "output_type": "display_data"
    },
    {
     "data": {
      "text/html": [
       "<pre style=\"white-space:pre;overflow-x:auto;line-height:normal;font-family:Menlo,'DejaVu Sans Mono',consolas,'Courier New',monospace\"><span style=\"font-weight: bold\"> Total params: </span><span style=\"color: #00af00; text-decoration-color: #00af00\">337,846</span> (1.29 MB)\n",
       "</pre>\n"
      ],
      "text/plain": [
       "\u001B[1m Total params: \u001B[0m\u001B[38;5;34m337,846\u001B[0m (1.29 MB)\n"
      ]
     },
     "metadata": {},
     "output_type": "display_data"
    },
    {
     "data": {
      "text/html": [
       "<pre style=\"white-space:pre;overflow-x:auto;line-height:normal;font-family:Menlo,'DejaVu Sans Mono',consolas,'Courier New',monospace\"><span style=\"font-weight: bold\"> Trainable params: </span><span style=\"color: #00af00; text-decoration-color: #00af00\">337,846</span> (1.29 MB)\n",
       "</pre>\n"
      ],
      "text/plain": [
       "\u001B[1m Trainable params: \u001B[0m\u001B[38;5;34m337,846\u001B[0m (1.29 MB)\n"
      ]
     },
     "metadata": {},
     "output_type": "display_data"
    },
    {
     "data": {
      "text/html": [
       "<pre style=\"white-space:pre;overflow-x:auto;line-height:normal;font-family:Menlo,'DejaVu Sans Mono',consolas,'Courier New',monospace\"><span style=\"font-weight: bold\"> Non-trainable params: </span><span style=\"color: #00af00; text-decoration-color: #00af00\">0</span> (0.00 B)\n",
       "</pre>\n"
      ],
      "text/plain": [
       "\u001B[1m Non-trainable params: \u001B[0m\u001B[38;5;34m0\u001B[0m (0.00 B)\n"
      ]
     },
     "metadata": {},
     "output_type": "display_data"
    }
   ],
   "source": [
    "from tensorflow.keras.models import Sequential\n",
    "from tensorflow.keras.layers import Embedding, LSTM, Dense\n",
    "import numpy as np\n",
    "\n",
    "# Define model parameters\n",
    "EMBEDDING_DIM = 100  # Size of word vectors\n",
    "LSTM_UNITS = 150     # Number of units in the LSTM layer\n",
    "\n",
    "# Build the model\n",
    "model = Sequential([\n",
    "    Embedding(input_dim=VOCAB_SIZE, output_dim=EMBEDDING_DIM, input_length=SEQ_LENGTH),    # Embedding layer\n",
    "    LSTM(units=LSTM_UNITS, return_sequences=False),  # LSTM layer\n",
    "    Dense(units=VOCAB_SIZE, activation='softmax') #  Dense layer with softmax activation\n",
    "])\n",
    "\n",
    "dummy_input = np.zeros((1, SEQ_LENGTH), dtype=np.int32)\n",
    "model(dummy_input)\n",
    "\n",
    "# Print the model summary\n",
    "model.summary()\n"
   ]
  },
  {
   "cell_type": "markdown",
   "id": "2fafd2dbb0d589fc",
   "metadata": {
    "collapsed": false,
    "id": "2fafd2dbb0d589fc",
    "jupyter": {
     "outputs_hidden": false
    }
   },
   "source": [
    "## 2.2 Model Compilation\n",
    "\n",
    "Compile the model with an appropriate loss function and optimizer. You might also want to track additional metrics, such as accuracy.\n",
    "\n",
    "Give a short explanation of your choice of loss function and optimizer:\n",
    "\n",
    "The Loss Function categorical_crossentrop measures the difference between the predicted probability distribution and the true distribution.\n",
    "The Adam optimizer helps to make  effective  handling sparse gradients and non-stationary objectives.\n",
    "Tracking accuracy helps to provide provides useful insights into the model's performance during training. It also monitor how often the model's predictions match the actual target."
   ]
  },
  {
   "cell_type": "code",
   "execution_count": null,
   "id": "ae4ca7a12051b1fd",
   "metadata": {
    "colab": {
     "base_uri": "https://localhost:8080/",
     "height": 238
    },
    "id": "ae4ca7a12051b1fd",
    "outputId": "beaeeb90-df2f-4452-da38-74b1a7976a1a"
   },
   "outputs": [
    {
     "data": {
      "text/html": [
       "<pre style=\"white-space:pre;overflow-x:auto;line-height:normal;font-family:Menlo,'DejaVu Sans Mono',consolas,'Courier New',monospace\"><span style=\"font-weight: bold\">Model: \"sequential_2\"</span>\n",
       "</pre>\n"
      ],
      "text/plain": [
       "\u001B[1mModel: \"sequential_2\"\u001B[0m\n"
      ]
     },
     "metadata": {},
     "output_type": "display_data"
    },
    {
     "data": {
      "text/html": [
       "<pre style=\"white-space:pre;overflow-x:auto;line-height:normal;font-family:Menlo,'DejaVu Sans Mono',consolas,'Courier New',monospace\">┏━━━━━━━━━━━━━━━━━━━━━━━━━━━━━━━━━━━━━━┳━━━━━━━━━━━━━━━━━━━━━━━━━━━━━┳━━━━━━━━━━━━━━━━━┓\n",
       "┃<span style=\"font-weight: bold\"> Layer (type)                         </span>┃<span style=\"font-weight: bold\"> Output Shape                </span>┃<span style=\"font-weight: bold\">         Param # </span>┃\n",
       "┡━━━━━━━━━━━━━━━━━━━━━━━━━━━━━━━━━━━━━━╇━━━━━━━━━━━━━━━━━━━━━━━━━━━━━╇━━━━━━━━━━━━━━━━━┩\n",
       "│ embedding_2 (<span style=\"color: #0087ff; text-decoration-color: #0087ff\">Embedding</span>)              │ (<span style=\"color: #00af00; text-decoration-color: #00af00\">1</span>, <span style=\"color: #00af00; text-decoration-color: #00af00\">50</span>, <span style=\"color: #00af00; text-decoration-color: #00af00\">100</span>)                │          <span style=\"color: #00af00; text-decoration-color: #00af00\">74,600</span> │\n",
       "├──────────────────────────────────────┼─────────────────────────────┼─────────────────┤\n",
       "│ lstm_2 (<span style=\"color: #0087ff; text-decoration-color: #0087ff\">LSTM</span>)                        │ (<span style=\"color: #00af00; text-decoration-color: #00af00\">1</span>, <span style=\"color: #00af00; text-decoration-color: #00af00\">150</span>)                    │         <span style=\"color: #00af00; text-decoration-color: #00af00\">150,600</span> │\n",
       "├──────────────────────────────────────┼─────────────────────────────┼─────────────────┤\n",
       "│ dense_2 (<span style=\"color: #0087ff; text-decoration-color: #0087ff\">Dense</span>)                      │ (<span style=\"color: #00af00; text-decoration-color: #00af00\">1</span>, <span style=\"color: #00af00; text-decoration-color: #00af00\">746</span>)                    │         <span style=\"color: #00af00; text-decoration-color: #00af00\">112,646</span> │\n",
       "└──────────────────────────────────────┴─────────────────────────────┴─────────────────┘\n",
       "</pre>\n"
      ],
      "text/plain": [
       "┏━━━━━━━━━━━━━━━━━━━━━━━━━━━━━━━━━━━━━━┳━━━━━━━━━━━━━━━━━━━━━━━━━━━━━┳━━━━━━━━━━━━━━━━━┓\n",
       "┃\u001B[1m \u001B[0m\u001B[1mLayer (type)                        \u001B[0m\u001B[1m \u001B[0m┃\u001B[1m \u001B[0m\u001B[1mOutput Shape               \u001B[0m\u001B[1m \u001B[0m┃\u001B[1m \u001B[0m\u001B[1m        Param #\u001B[0m\u001B[1m \u001B[0m┃\n",
       "┡━━━━━━━━━━━━━━━━━━━━━━━━━━━━━━━━━━━━━━╇━━━━━━━━━━━━━━━━━━━━━━━━━━━━━╇━━━━━━━━━━━━━━━━━┩\n",
       "│ embedding_2 (\u001B[38;5;33mEmbedding\u001B[0m)              │ (\u001B[38;5;34m1\u001B[0m, \u001B[38;5;34m50\u001B[0m, \u001B[38;5;34m100\u001B[0m)                │          \u001B[38;5;34m74,600\u001B[0m │\n",
       "├──────────────────────────────────────┼─────────────────────────────┼─────────────────┤\n",
       "│ lstm_2 (\u001B[38;5;33mLSTM\u001B[0m)                        │ (\u001B[38;5;34m1\u001B[0m, \u001B[38;5;34m150\u001B[0m)                    │         \u001B[38;5;34m150,600\u001B[0m │\n",
       "├──────────────────────────────────────┼─────────────────────────────┼─────────────────┤\n",
       "│ dense_2 (\u001B[38;5;33mDense\u001B[0m)                      │ (\u001B[38;5;34m1\u001B[0m, \u001B[38;5;34m746\u001B[0m)                    │         \u001B[38;5;34m112,646\u001B[0m │\n",
       "└──────────────────────────────────────┴─────────────────────────────┴─────────────────┘\n"
      ]
     },
     "metadata": {},
     "output_type": "display_data"
    },
    {
     "data": {
      "text/html": [
       "<pre style=\"white-space:pre;overflow-x:auto;line-height:normal;font-family:Menlo,'DejaVu Sans Mono',consolas,'Courier New',monospace\"><span style=\"font-weight: bold\"> Total params: </span><span style=\"color: #00af00; text-decoration-color: #00af00\">337,846</span> (1.29 MB)\n",
       "</pre>\n"
      ],
      "text/plain": [
       "\u001B[1m Total params: \u001B[0m\u001B[38;5;34m337,846\u001B[0m (1.29 MB)\n"
      ]
     },
     "metadata": {},
     "output_type": "display_data"
    },
    {
     "data": {
      "text/html": [
       "<pre style=\"white-space:pre;overflow-x:auto;line-height:normal;font-family:Menlo,'DejaVu Sans Mono',consolas,'Courier New',monospace\"><span style=\"font-weight: bold\"> Trainable params: </span><span style=\"color: #00af00; text-decoration-color: #00af00\">337,846</span> (1.29 MB)\n",
       "</pre>\n"
      ],
      "text/plain": [
       "\u001B[1m Trainable params: \u001B[0m\u001B[38;5;34m337,846\u001B[0m (1.29 MB)\n"
      ]
     },
     "metadata": {},
     "output_type": "display_data"
    },
    {
     "data": {
      "text/html": [
       "<pre style=\"white-space:pre;overflow-x:auto;line-height:normal;font-family:Menlo,'DejaVu Sans Mono',consolas,'Courier New',monospace\"><span style=\"font-weight: bold\"> Non-trainable params: </span><span style=\"color: #00af00; text-decoration-color: #00af00\">0</span> (0.00 B)\n",
       "</pre>\n"
      ],
      "text/plain": [
       "\u001B[1m Non-trainable params: \u001B[0m\u001B[38;5;34m0\u001B[0m (0.00 B)\n"
      ]
     },
     "metadata": {},
     "output_type": "display_data"
    }
   ],
   "source": [
    "from tensorflow.keras.optimizers import Adam\n",
    "\n",
    "# Compile the model\n",
    "model.compile(\n",
    "    loss='categorical_crossentropy',  # Loss function for multi-class classification\n",
    "    optimizer=Adam(learning_rate=0.001),  # Adam optimizer with a learning rate of 0.001\n",
    "    metrics=['accuracy']  # Track accuracy as an additional metric\n",
    ")\n",
    "\n",
    "# Print a summary to verify the compilation\n",
    "model.summary()\n",
    "\n"
   ]
  },
  {
   "cell_type": "markdown",
   "id": "c2f0b90a448c4f4b",
   "metadata": {
    "collapsed": false,
    "id": "c2f0b90a448c4f4b",
    "jupyter": {
     "outputs_hidden": false
    }
   },
   "source": [
    "## 2.3 Model Training\n",
    "\n",
    "Train the model on the training data you've prepared.\n",
    "\n",
    "* Train your model for 5 epochs with a batch size of 128. Use the validation data for validation.\n",
    "* Store the training history in a variable called `history`."
   ]
  },
  {
   "cell_type": "code",
   "execution_count": null,
   "id": "256b1ea138c67ef7",
   "metadata": {
    "colab": {
     "base_uri": "https://localhost:8080/"
    },
    "id": "256b1ea138c67ef7",
    "outputId": "d4cb164e-aa8b-44b1-c668-cf35c94c42b6"
   },
   "outputs": [
    {
     "name": "stdout",
     "output_type": "stream",
     "text": [
      "Epoch 1/70\n",
      "\u001B[1m23/23\u001B[0m \u001B[32m━━━━━━━━━━━━━━━━━━━━\u001B[0m\u001B[37m\u001B[0m \u001B[1m1s\u001B[0m 22ms/step - accuracy: 0.8637 - loss: 0.7006 - val_accuracy: 0.5546 - val_loss: 3.2464\n",
      "Epoch 2/70\n",
      "\u001B[1m23/23\u001B[0m \u001B[32m━━━━━━━━━━━━━━━━━━━━\u001B[0m\u001B[37m\u001B[0m \u001B[1m0s\u001B[0m 13ms/step - accuracy: 0.8743 - loss: 0.6839 - val_accuracy: 0.5505 - val_loss: 3.2379\n",
      "Epoch 3/70\n",
      "\u001B[1m23/23\u001B[0m \u001B[32m━━━━━━━━━━━━━━━━━━━━\u001B[0m\u001B[37m\u001B[0m \u001B[1m1s\u001B[0m 12ms/step - accuracy: 0.8712 - loss: 0.6566 - val_accuracy: 0.5533 - val_loss: 3.2500\n",
      "Epoch 4/70\n",
      "\u001B[1m23/23\u001B[0m \u001B[32m━━━━━━━━━━━━━━━━━━━━\u001B[0m\u001B[37m\u001B[0m \u001B[1m0s\u001B[0m 11ms/step - accuracy: 0.8796 - loss: 0.6351 - val_accuracy: 0.5519 - val_loss: 3.2641\n",
      "Epoch 5/70\n",
      "\u001B[1m23/23\u001B[0m \u001B[32m━━━━━━━━━━━━━━━━━━━━\u001B[0m\u001B[37m\u001B[0m \u001B[1m0s\u001B[0m 10ms/step - accuracy: 0.8880 - loss: 0.6218 - val_accuracy: 0.5533 - val_loss: 3.2763\n",
      "Epoch 6/70\n",
      "\u001B[1m23/23\u001B[0m \u001B[32m━━━━━━━━━━━━━━━━━━━━\u001B[0m\u001B[37m\u001B[0m \u001B[1m0s\u001B[0m 10ms/step - accuracy: 0.8962 - loss: 0.5802 - val_accuracy: 0.5546 - val_loss: 3.2716\n",
      "Epoch 7/70\n",
      "\u001B[1m23/23\u001B[0m \u001B[32m━━━━━━━━━━━━━━━━━━━━\u001B[0m\u001B[37m\u001B[0m \u001B[1m0s\u001B[0m 12ms/step - accuracy: 0.8903 - loss: 0.5906 - val_accuracy: 0.5463 - val_loss: 3.2869\n",
      "Epoch 8/70\n",
      "\u001B[1m23/23\u001B[0m \u001B[32m━━━━━━━━━━━━━━━━━━━━\u001B[0m\u001B[37m\u001B[0m \u001B[1m0s\u001B[0m 11ms/step - accuracy: 0.9035 - loss: 0.5587 - val_accuracy: 0.5505 - val_loss: 3.2917\n",
      "Epoch 9/70\n",
      "\u001B[1m23/23\u001B[0m \u001B[32m━━━━━━━━━━━━━━━━━━━━\u001B[0m\u001B[37m\u001B[0m \u001B[1m0s\u001B[0m 11ms/step - accuracy: 0.8922 - loss: 0.5402 - val_accuracy: 0.5505 - val_loss: 3.2975\n",
      "Epoch 10/70\n",
      "\u001B[1m23/23\u001B[0m \u001B[32m━━━━━━━━━━━━━━━━━━━━\u001B[0m\u001B[37m\u001B[0m \u001B[1m0s\u001B[0m 10ms/step - accuracy: 0.8797 - loss: 0.5631 - val_accuracy: 0.5519 - val_loss: 3.3078\n",
      "Epoch 11/70\n",
      "\u001B[1m23/23\u001B[0m \u001B[32m━━━━━━━━━━━━━━━━━━━━\u001B[0m\u001B[37m\u001B[0m \u001B[1m0s\u001B[0m 9ms/step - accuracy: 0.8943 - loss: 0.5578 - val_accuracy: 0.5463 - val_loss: 3.3209\n",
      "Epoch 12/70\n",
      "\u001B[1m23/23\u001B[0m \u001B[32m━━━━━━━━━━━━━━━━━━━━\u001B[0m\u001B[37m\u001B[0m \u001B[1m0s\u001B[0m 10ms/step - accuracy: 0.9000 - loss: 0.5177 - val_accuracy: 0.5463 - val_loss: 3.3373\n",
      "Epoch 13/70\n",
      "\u001B[1m23/23\u001B[0m \u001B[32m━━━━━━━━━━━━━━━━━━━━\u001B[0m\u001B[37m\u001B[0m \u001B[1m0s\u001B[0m 12ms/step - accuracy: 0.8966 - loss: 0.5280 - val_accuracy: 0.5450 - val_loss: 3.3392\n",
      "Epoch 14/70\n",
      "\u001B[1m23/23\u001B[0m \u001B[32m━━━━━━━━━━━━━━━━━━━━\u001B[0m\u001B[37m\u001B[0m \u001B[1m0s\u001B[0m 12ms/step - accuracy: 0.9134 - loss: 0.4691 - val_accuracy: 0.5546 - val_loss: 3.3347\n",
      "Epoch 15/70\n",
      "\u001B[1m23/23\u001B[0m \u001B[32m━━━━━━━━━━━━━━━━━━━━\u001B[0m\u001B[37m\u001B[0m \u001B[1m0s\u001B[0m 9ms/step - accuracy: 0.9142 - loss: 0.4625 - val_accuracy: 0.5450 - val_loss: 3.3555\n",
      "Epoch 16/70\n",
      "\u001B[1m23/23\u001B[0m \u001B[32m━━━━━━━━━━━━━━━━━━━━\u001B[0m\u001B[37m\u001B[0m \u001B[1m0s\u001B[0m 11ms/step - accuracy: 0.9173 - loss: 0.4436 - val_accuracy: 0.5477 - val_loss: 3.3589\n",
      "Epoch 17/70\n",
      "\u001B[1m23/23\u001B[0m \u001B[32m━━━━━━━━━━━━━━━━━━━━\u001B[0m\u001B[37m\u001B[0m \u001B[1m0s\u001B[0m 12ms/step - accuracy: 0.9241 - loss: 0.4245 - val_accuracy: 0.5519 - val_loss: 3.3705\n",
      "Epoch 18/70\n",
      "\u001B[1m23/23\u001B[0m \u001B[32m━━━━━━━━━━━━━━━━━━━━\u001B[0m\u001B[37m\u001B[0m \u001B[1m0s\u001B[0m 10ms/step - accuracy: 0.9252 - loss: 0.4164 - val_accuracy: 0.5463 - val_loss: 3.3692\n",
      "Epoch 19/70\n",
      "\u001B[1m23/23\u001B[0m \u001B[32m━━━━━━━━━━━━━━━━━━━━\u001B[0m\u001B[37m\u001B[0m \u001B[1m0s\u001B[0m 9ms/step - accuracy: 0.9371 - loss: 0.3884 - val_accuracy: 0.5463 - val_loss: 3.3823\n",
      "Epoch 20/70\n",
      "\u001B[1m23/23\u001B[0m \u001B[32m━━━━━━━━━━━━━━━━━━━━\u001B[0m\u001B[37m\u001B[0m \u001B[1m0s\u001B[0m 10ms/step - accuracy: 0.9374 - loss: 0.3745 - val_accuracy: 0.5505 - val_loss: 3.3942\n",
      "Epoch 21/70\n",
      "\u001B[1m23/23\u001B[0m \u001B[32m━━━━━━━━━━━━━━━━━━━━\u001B[0m\u001B[37m\u001B[0m \u001B[1m0s\u001B[0m 12ms/step - accuracy: 0.9408 - loss: 0.3700 - val_accuracy: 0.5463 - val_loss: 3.3957\n",
      "Epoch 22/70\n",
      "\u001B[1m23/23\u001B[0m \u001B[32m━━━━━━━━━━━━━━━━━━━━\u001B[0m\u001B[37m\u001B[0m \u001B[1m0s\u001B[0m 11ms/step - accuracy: 0.9330 - loss: 0.3777 - val_accuracy: 0.5477 - val_loss: 3.4083\n",
      "Epoch 23/70\n",
      "\u001B[1m23/23\u001B[0m \u001B[32m━━━━━━━━━━━━━━━━━━━━\u001B[0m\u001B[37m\u001B[0m \u001B[1m0s\u001B[0m 11ms/step - accuracy: 0.9458 - loss: 0.3333 - val_accuracy: 0.5436 - val_loss: 3.4119\n",
      "Epoch 24/70\n",
      "\u001B[1m23/23\u001B[0m \u001B[32m━━━━━━━━━━━━━━━━━━━━\u001B[0m\u001B[37m\u001B[0m \u001B[1m0s\u001B[0m 10ms/step - accuracy: 0.9400 - loss: 0.3534 - val_accuracy: 0.5477 - val_loss: 3.4298\n",
      "Epoch 25/70\n",
      "\u001B[1m23/23\u001B[0m \u001B[32m━━━━━━━━━━━━━━━━━━━━\u001B[0m\u001B[37m\u001B[0m \u001B[1m0s\u001B[0m 10ms/step - accuracy: 0.9499 - loss: 0.3240 - val_accuracy: 0.5505 - val_loss: 3.4267\n",
      "Epoch 26/70\n",
      "\u001B[1m23/23\u001B[0m \u001B[32m━━━━━━━━━━━━━━━━━━━━\u001B[0m\u001B[37m\u001B[0m \u001B[1m0s\u001B[0m 11ms/step - accuracy: 0.9474 - loss: 0.3272 - val_accuracy: 0.5450 - val_loss: 3.4478\n",
      "Epoch 27/70\n",
      "\u001B[1m23/23\u001B[0m \u001B[32m━━━━━━━━━━━━━━━━━━━━\u001B[0m\u001B[37m\u001B[0m \u001B[1m0s\u001B[0m 10ms/step - accuracy: 0.9513 - loss: 0.3074 - val_accuracy: 0.5422 - val_loss: 3.4492\n",
      "Epoch 28/70\n",
      "\u001B[1m23/23\u001B[0m \u001B[32m━━━━━━━━━━━━━━━━━━━━\u001B[0m\u001B[37m\u001B[0m \u001B[1m0s\u001B[0m 10ms/step - accuracy: 0.9545 - loss: 0.2974 - val_accuracy: 0.5477 - val_loss: 3.4503\n",
      "Epoch 29/70\n",
      "\u001B[1m23/23\u001B[0m \u001B[32m━━━━━━━━━━━━━━━━━━━━\u001B[0m\u001B[37m\u001B[0m \u001B[1m0s\u001B[0m 11ms/step - accuracy: 0.9516 - loss: 0.3028 - val_accuracy: 0.5477 - val_loss: 3.4570\n",
      "Epoch 30/70\n",
      "\u001B[1m23/23\u001B[0m \u001B[32m━━━━━━━━━━━━━━━━━━━━\u001B[0m\u001B[37m\u001B[0m \u001B[1m0s\u001B[0m 10ms/step - accuracy: 0.9528 - loss: 0.2975 - val_accuracy: 0.5491 - val_loss: 3.4757\n",
      "Epoch 31/70\n",
      "\u001B[1m23/23\u001B[0m \u001B[32m━━━━━━━━━━━━━━━━━━━━\u001B[0m\u001B[37m\u001B[0m \u001B[1m0s\u001B[0m 10ms/step - accuracy: 0.9607 - loss: 0.2846 - val_accuracy: 0.5477 - val_loss: 3.4850\n",
      "Epoch 32/70\n",
      "\u001B[1m23/23\u001B[0m \u001B[32m━━━━━━━━━━━━━━━━━━━━\u001B[0m\u001B[37m\u001B[0m \u001B[1m0s\u001B[0m 10ms/step - accuracy: 0.9614 - loss: 0.2663 - val_accuracy: 0.5477 - val_loss: 3.4965\n",
      "Epoch 33/70\n",
      "\u001B[1m23/23\u001B[0m \u001B[32m━━━━━━━━━━━━━━━━━━━━\u001B[0m\u001B[37m\u001B[0m \u001B[1m0s\u001B[0m 10ms/step - accuracy: 0.9650 - loss: 0.2663 - val_accuracy: 0.5408 - val_loss: 3.4987\n",
      "Epoch 34/70\n",
      "\u001B[1m23/23\u001B[0m \u001B[32m━━━━━━━━━━━━━━━━━━━━\u001B[0m\u001B[37m\u001B[0m \u001B[1m0s\u001B[0m 12ms/step - accuracy: 0.9613 - loss: 0.2651 - val_accuracy: 0.5505 - val_loss: 3.5146\n",
      "Epoch 35/70\n",
      "\u001B[1m23/23\u001B[0m \u001B[32m━━━━━━━━━━━━━━━━━━━━\u001B[0m\u001B[37m\u001B[0m \u001B[1m0s\u001B[0m 14ms/step - accuracy: 0.9560 - loss: 0.2740 - val_accuracy: 0.5505 - val_loss: 3.5106\n",
      "Epoch 36/70\n",
      "\u001B[1m23/23\u001B[0m \u001B[32m━━━━━━━━━━━━━━━━━━━━\u001B[0m\u001B[37m\u001B[0m \u001B[1m1s\u001B[0m 12ms/step - accuracy: 0.9623 - loss: 0.2541 - val_accuracy: 0.5436 - val_loss: 3.5258\n",
      "Epoch 37/70\n",
      "\u001B[1m23/23\u001B[0m \u001B[32m━━━━━━━━━━━━━━━━━━━━\u001B[0m\u001B[37m\u001B[0m \u001B[1m1s\u001B[0m 13ms/step - accuracy: 0.9648 - loss: 0.2475 - val_accuracy: 0.5463 - val_loss: 3.5284\n",
      "Epoch 38/70\n",
      "\u001B[1m23/23\u001B[0m \u001B[32m━━━━━━━━━━━━━━━━━━━━\u001B[0m\u001B[37m\u001B[0m \u001B[1m1s\u001B[0m 15ms/step - accuracy: 0.9653 - loss: 0.2520 - val_accuracy: 0.5463 - val_loss: 3.5089\n",
      "Epoch 39/70\n",
      "\u001B[1m23/23\u001B[0m \u001B[32m━━━━━━━━━━━━━━━━━━━━\u001B[0m\u001B[37m\u001B[0m \u001B[1m1s\u001B[0m 13ms/step - accuracy: 0.9622 - loss: 0.2627 - val_accuracy: 0.5477 - val_loss: 3.5447\n",
      "Epoch 40/70\n",
      "\u001B[1m23/23\u001B[0m \u001B[32m━━━━━━━━━━━━━━━━━━━━\u001B[0m\u001B[37m\u001B[0m \u001B[1m0s\u001B[0m 11ms/step - accuracy: 0.9651 - loss: 0.2461 - val_accuracy: 0.5463 - val_loss: 3.5649\n",
      "Epoch 41/70\n",
      "\u001B[1m23/23\u001B[0m \u001B[32m━━━━━━━━━━━━━━━━━━━━\u001B[0m\u001B[37m\u001B[0m \u001B[1m0s\u001B[0m 10ms/step - accuracy: 0.9690 - loss: 0.2274 - val_accuracy: 0.5450 - val_loss: 3.5690\n",
      "Epoch 42/70\n",
      "\u001B[1m23/23\u001B[0m \u001B[32m━━━━━━━━━━━━━━━━━━━━\u001B[0m\u001B[37m\u001B[0m \u001B[1m0s\u001B[0m 10ms/step - accuracy: 0.9670 - loss: 0.2252 - val_accuracy: 0.5408 - val_loss: 3.5708\n",
      "Epoch 43/70\n",
      "\u001B[1m23/23\u001B[0m \u001B[32m━━━━━━━━━━━━━━━━━━━━\u001B[0m\u001B[37m\u001B[0m \u001B[1m0s\u001B[0m 11ms/step - accuracy: 0.9720 - loss: 0.2107 - val_accuracy: 0.5394 - val_loss: 3.5817\n",
      "Epoch 44/70\n",
      "\u001B[1m23/23\u001B[0m \u001B[32m━━━━━━━━━━━━━━━━━━━━\u001B[0m\u001B[37m\u001B[0m \u001B[1m0s\u001B[0m 10ms/step - accuracy: 0.9691 - loss: 0.2108 - val_accuracy: 0.5422 - val_loss: 3.5876\n",
      "Epoch 45/70\n",
      "\u001B[1m23/23\u001B[0m \u001B[32m━━━━━━━━━━━━━━━━━━━━\u001B[0m\u001B[37m\u001B[0m \u001B[1m0s\u001B[0m 12ms/step - accuracy: 0.9648 - loss: 0.2246 - val_accuracy: 0.5450 - val_loss: 3.5962\n",
      "Epoch 46/70\n",
      "\u001B[1m23/23\u001B[0m \u001B[32m━━━━━━━━━━━━━━━━━━━━\u001B[0m\u001B[37m\u001B[0m \u001B[1m0s\u001B[0m 11ms/step - accuracy: 0.9733 - loss: 0.2008 - val_accuracy: 0.5450 - val_loss: 3.6017\n",
      "Epoch 47/70\n",
      "\u001B[1m23/23\u001B[0m \u001B[32m━━━━━━━━━━━━━━━━━━━━\u001B[0m\u001B[37m\u001B[0m \u001B[1m0s\u001B[0m 10ms/step - accuracy: 0.9728 - loss: 0.1878 - val_accuracy: 0.5436 - val_loss: 3.6170\n",
      "Epoch 48/70\n",
      "\u001B[1m23/23\u001B[0m \u001B[32m━━━━━━━━━━━━━━━━━━━━\u001B[0m\u001B[37m\u001B[0m \u001B[1m0s\u001B[0m 11ms/step - accuracy: 0.9741 - loss: 0.1806 - val_accuracy: 0.5394 - val_loss: 3.6277\n",
      "Epoch 49/70\n",
      "\u001B[1m23/23\u001B[0m \u001B[32m━━━━━━━━━━━━━━━━━━━━\u001B[0m\u001B[37m\u001B[0m \u001B[1m0s\u001B[0m 11ms/step - accuracy: 0.9720 - loss: 0.1964 - val_accuracy: 0.5422 - val_loss: 3.6310\n",
      "Epoch 50/70\n",
      "\u001B[1m23/23\u001B[0m \u001B[32m━━━━━━━━━━━━━━━━━━━━\u001B[0m\u001B[37m\u001B[0m \u001B[1m0s\u001B[0m 11ms/step - accuracy: 0.9756 - loss: 0.1892 - val_accuracy: 0.5394 - val_loss: 3.6359\n",
      "Epoch 51/70\n",
      "\u001B[1m23/23\u001B[0m \u001B[32m━━━━━━━━━━━━━━━━━━━━\u001B[0m\u001B[37m\u001B[0m \u001B[1m0s\u001B[0m 10ms/step - accuracy: 0.9744 - loss: 0.1879 - val_accuracy: 0.5422 - val_loss: 3.6198\n",
      "Epoch 52/70\n",
      "\u001B[1m23/23\u001B[0m \u001B[32m━━━━━━━━━━━━━━━━━━━━\u001B[0m\u001B[37m\u001B[0m \u001B[1m0s\u001B[0m 10ms/step - accuracy: 0.9737 - loss: 0.1799 - val_accuracy: 0.5394 - val_loss: 3.6370\n",
      "Epoch 53/70\n",
      "\u001B[1m23/23\u001B[0m \u001B[32m━━━━━━━━━━━━━━━━━━━━\u001B[0m\u001B[37m\u001B[0m \u001B[1m0s\u001B[0m 12ms/step - accuracy: 0.9708 - loss: 0.1865 - val_accuracy: 0.5339 - val_loss: 3.6551\n",
      "Epoch 54/70\n",
      "\u001B[1m23/23\u001B[0m \u001B[32m━━━━━━━━━━━━━━━━━━━━\u001B[0m\u001B[37m\u001B[0m \u001B[1m0s\u001B[0m 12ms/step - accuracy: 0.9724 - loss: 0.1762 - val_accuracy: 0.5436 - val_loss: 3.6635\n",
      "Epoch 55/70\n",
      "\u001B[1m23/23\u001B[0m \u001B[32m━━━━━━━━━━━━━━━━━━━━\u001B[0m\u001B[37m\u001B[0m \u001B[1m0s\u001B[0m 10ms/step - accuracy: 0.9718 - loss: 0.1782 - val_accuracy: 0.5367 - val_loss: 3.6795\n",
      "Epoch 56/70\n",
      "\u001B[1m23/23\u001B[0m \u001B[32m━━━━━━━━━━━━━━━━━━━━\u001B[0m\u001B[37m\u001B[0m \u001B[1m0s\u001B[0m 10ms/step - accuracy: 0.9786 - loss: 0.1574 - val_accuracy: 0.5422 - val_loss: 3.6845\n",
      "Epoch 57/70\n",
      "\u001B[1m23/23\u001B[0m \u001B[32m━━━━━━━━━━━━━━━━━━━━\u001B[0m\u001B[37m\u001B[0m \u001B[1m0s\u001B[0m 12ms/step - accuracy: 0.9764 - loss: 0.1620 - val_accuracy: 0.5353 - val_loss: 3.6904\n",
      "Epoch 58/70\n",
      "\u001B[1m23/23\u001B[0m \u001B[32m━━━━━━━━━━━━━━━━━━━━\u001B[0m\u001B[37m\u001B[0m \u001B[1m0s\u001B[0m 10ms/step - accuracy: 0.9770 - loss: 0.1553 - val_accuracy: 0.5380 - val_loss: 3.6873\n",
      "Epoch 59/70\n",
      "\u001B[1m23/23\u001B[0m \u001B[32m━━━━━━━━━━━━━━━━━━━━\u001B[0m\u001B[37m\u001B[0m \u001B[1m0s\u001B[0m 10ms/step - accuracy: 0.9778 - loss: 0.1581 - val_accuracy: 0.5353 - val_loss: 3.7070\n",
      "Epoch 60/70\n",
      "\u001B[1m23/23\u001B[0m \u001B[32m━━━━━━━━━━━━━━━━━━━━\u001B[0m\u001B[37m\u001B[0m \u001B[1m0s\u001B[0m 11ms/step - accuracy: 0.9814 - loss: 0.1449 - val_accuracy: 0.5353 - val_loss: 3.7093\n",
      "Epoch 61/70\n",
      "\u001B[1m23/23\u001B[0m \u001B[32m━━━━━━━━━━━━━━━━━━━━\u001B[0m\u001B[37m\u001B[0m \u001B[1m0s\u001B[0m 11ms/step - accuracy: 0.9776 - loss: 0.1486 - val_accuracy: 0.5408 - val_loss: 3.7140\n",
      "Epoch 62/70\n",
      "\u001B[1m23/23\u001B[0m \u001B[32m━━━━━━━━━━━━━━━━━━━━\u001B[0m\u001B[37m\u001B[0m \u001B[1m0s\u001B[0m 10ms/step - accuracy: 0.9804 - loss: 0.1347 - val_accuracy: 0.5353 - val_loss: 3.7277\n",
      "Epoch 63/70\n",
      "\u001B[1m23/23\u001B[0m \u001B[32m━━━━━━━━━━━━━━━━━━━━\u001B[0m\u001B[37m\u001B[0m \u001B[1m0s\u001B[0m 10ms/step - accuracy: 0.9810 - loss: 0.1349 - val_accuracy: 0.5339 - val_loss: 3.7324\n",
      "Epoch 64/70\n",
      "\u001B[1m23/23\u001B[0m \u001B[32m━━━━━━━━━━━━━━━━━━━━\u001B[0m\u001B[37m\u001B[0m \u001B[1m0s\u001B[0m 12ms/step - accuracy: 0.9825 - loss: 0.1423 - val_accuracy: 0.5353 - val_loss: 3.7448\n",
      "Epoch 65/70\n",
      "\u001B[1m23/23\u001B[0m \u001B[32m━━━━━━━━━━━━━━━━━━━━\u001B[0m\u001B[37m\u001B[0m \u001B[1m0s\u001B[0m 11ms/step - accuracy: 0.9828 - loss: 0.1321 - val_accuracy: 0.5297 - val_loss: 3.7519\n",
      "Epoch 66/70\n",
      "\u001B[1m23/23\u001B[0m \u001B[32m━━━━━━━━━━━━━━━━━━━━\u001B[0m\u001B[37m\u001B[0m \u001B[1m0s\u001B[0m 9ms/step - accuracy: 0.9813 - loss: 0.1389 - val_accuracy: 0.5367 - val_loss: 3.7480\n",
      "Epoch 67/70\n",
      "\u001B[1m23/23\u001B[0m \u001B[32m━━━━━━━━━━━━━━━━━━━━\u001B[0m\u001B[37m\u001B[0m \u001B[1m0s\u001B[0m 11ms/step - accuracy: 0.9836 - loss: 0.1244 - val_accuracy: 0.5353 - val_loss: 3.7568\n",
      "Epoch 68/70\n",
      "\u001B[1m23/23\u001B[0m \u001B[32m━━━━━━━━━━━━━━━━━━━━\u001B[0m\u001B[37m\u001B[0m \u001B[1m0s\u001B[0m 12ms/step - accuracy: 0.9835 - loss: 0.1250 - val_accuracy: 0.5339 - val_loss: 3.7670\n",
      "Epoch 69/70\n",
      "\u001B[1m23/23\u001B[0m \u001B[32m━━━━━━━━━━━━━━━━━━━━\u001B[0m\u001B[37m\u001B[0m \u001B[1m0s\u001B[0m 10ms/step - accuracy: 0.9838 - loss: 0.1234 - val_accuracy: 0.5367 - val_loss: 3.7712\n",
      "Epoch 70/70\n",
      "\u001B[1m23/23\u001B[0m \u001B[32m━━━━━━━━━━━━━━━━━━━━\u001B[0m\u001B[37m\u001B[0m \u001B[1m0s\u001B[0m 12ms/step - accuracy: 0.9798 - loss: 0.1318 - val_accuracy: 0.5256 - val_loss: 3.7832\n"
     ]
    }
   ],
   "source": [
    "from tensorflow.keras.optimizers import Adam\n",
    "\n",
    "# Compile the model\n",
    "model.compile(\n",
    "    loss='categorical_crossentropy',  \n",
    "    optimizer=Adam(learning_rate=0.001),  \n",
    "    metrics=['accuracy']  #\n",
    ")\n",
    "\n",
    "model.summary()\n",
    "\n",
    "epochs = 70\n",
    "batch_size = 128\n",
    "\n",
    "\n",
    "history = model.fit(\n",
    "    X_train,  # Training input sequences\n",
    "    y_train,  # Training targets (one-hot encoded)\n",
    "    epochs=epochs,  # Number of epochs\n",
    "    batch_size=batch_size,  # Batch size\n",
    "    validation_data=(X_val, y_val),  # Validation data\n",
    "    verbose=1  # Verbose mode for detailed output\n",
    ")\n"
   ]
  },
  {
   "cell_type": "markdown",
   "id": "195c59bf80d2a2c4",
   "metadata": {
    "collapsed": false,
    "id": "195c59bf80d2a2c4",
    "jupyter": {
     "outputs_hidden": false
    }
   },
   "source": [
    "\n",
    "\n",
    "\n",
    "Plot the training history to visualize the model's learning progress. Your plot should include the training and validation loss."
   ]
  },
  {
   "cell_type": "code",
   "execution_count": null,
   "id": "9e8cacec70d8f313",
   "metadata": {
    "colab": {
     "base_uri": "https://localhost:8080/",
     "height": 571
    },
    "id": "9e8cacec70d8f313",
    "outputId": "517f7209-b616-4115-dba4-775823af3064"
   },
   "outputs": [
    {
     "data": {
      "image/png": "[encoded data removed]",
      "text/plain": [
       "<Figure size 1000x600 with 1 Axes>"
      ]
     },
     "metadata": {},
     "output_type": "display_data"
    }
   ],
   "source": [
    "import matplotlib.pyplot as plt\n",
    "\n",
    "# Your code here\n",
    "\n",
    "plt.figure(figsize=(10, 6))\n",
    "plt.plot(history.history['loss'], label='Training Loss', color='blue', linewidth=2)\n",
    "plt.plot(history.history['val_loss'], label='Validation Loss', color='orange', linewidth=2)\n",
    "plt.xlabel('Epoch', fontsize=14)\n",
    "plt.ylabel('Loss', fontsize=14)\n",
    "plt.title('Training and Validation Loss Over Epochs', fontsize=16)\n",
    "plt.legend(fontsize=12)\n",
    "plt.grid(True)\n",
    "plt.show()\n"
   ]
  },
  {
   "cell_type": "code",
   "execution_count": null,
   "id": "c6eijhcsWeXL",
   "metadata": {
    "colab": {
     "base_uri": "https://localhost:8080/",
     "height": 927
    },
    "id": "c6eijhcsWeXL",
    "outputId": "153a8358-e7ec-48e8-fc31-2d5697b95f55"
   },
   "outputs": [
    {
     "data": {
      "image/png": "[encoded data removed]",
      "text/plain": [
       "<Figure size 640x480 with 1 Axes>"
      ]
     },
     "metadata": {},
     "output_type": "display_data"
    },
    {
     "data": {
      "image/png": "[encoded data removed]",
      "text/plain": [
       "<Figure size 640x480 with 1 Axes>"
      ]
     },
     "metadata": {},
     "output_type": "display_data"
    }
   ],
   "source": [
    "import matplotlib.pyplot as plt\n",
    "\n",
    "# Plot the training and validation accuracy\n",
    "plt.plot(history.history['accuracy'], label='train accuracy')\n",
    "plt.plot(history.history['val_accuracy'], label='val accuracy')\n",
    "plt.xlabel('Epoch')\n",
    "plt.ylabel('Accuracy')\n",
    "plt.legend()\n",
    "plt.title('Model Accuracy')\n",
    "plt.show()\n",
    "\n",
    "# Plot the training and validation loss\n",
    "plt.plot(history.history['loss'], label='train loss')\n",
    "plt.plot(history.history['val_loss'], label='val loss')\n",
    "plt.xlabel('Epoch')\n",
    "plt.ylabel('Loss')\n",
    "plt.legend()\n",
    "plt.title('Model Loss')\n",
    "plt.show()\n"
   ]
  },
  {
   "cell_type": "markdown",
   "id": "3d9ed71305787aed",
   "metadata": {
    "collapsed": false,
    "id": "3d9ed71305787aed",
    "jupyter": {
     "outputs_hidden": false
    }
   },
   "source": [
    "# 3. Text Generation (Complete or Incomplete)\n",
    "\n",
    "Write a method called `generate_text` that uses the trained model to generate new text. The method should take the following parameters:\n",
    "\n",
    "*   `model`: The trained RNN model.\n",
    "*   `tokenizer`: The tokenizer used to pre-process the text data.\n",
    "*   `seed_text`: The seed text the model will use to generate new text.\n",
    "*   `max_sequence_len`: The maximum length of the sequence used to generate new text.\n",
    "\n",
    "The method should return the generated text.\n",
    "\n",
    "An overview of the text generation process you should follow:\n",
    "\n",
    "1. Tokenize the seed text using the tokenizer we built before.\n",
    "2. Pad the sequences to the same length as the training sequences - you can use the `pad_sequences` method from the `keras.preprocessing.sequence` module, which is documented [here](https://www.tensorflow.org/api_docs/python/tf/keras/preprocessing/sequence/pad_sequences).\n",
    "3. Use the model to predict the next token in the sequence. Remember that the model will output a probability distribution over the vocabulary, so you'll need to use `np.argmax` to find the token with the highest probability.\n",
    "4. Add the predicted token to the sequence and remove the first token.\n",
    "5. Repeat steps 3-4 until you have generated the desired number of tokens.\n",
    "6. Convert the generated token IDs back to words and return the combined result as a single string.\n",
    "\n",
    "This is a challenging task, so don't hesitate to ask for help if you need it. It's okay if the generated text doesn't make much sense yet - we'll work on improving the model next.\n",
    "As a bonus, you can make your method generate \"gpt-style\" by having it print out each word as it's generated, so you can see the text being generated in real time."
   ]
  },
  {
   "cell_type": "code",
   "execution_count": null,
   "id": "d73dbf278a1265ef",
   "metadata": {
    "id": "d73dbf278a1265ef"
   },
   "outputs": [],
   "source": [
    "from tensorflow.keras.preprocessing.sequence import pad_sequences\n",
    "import numpy as np\n",
    "\n",
    "def get_predicted_word(model, sequence, temperature=1.0):\n",
    "    \"\"\"\n",
    "    Get the predicted word from the model using temperature to add randomness.\n",
    "\n",
    "    Args:\n",
    "    - model: Trained RNN model.\n",
    "    - sequence: The input sequence of tokens for prediction.\n",
    "    - temperature: Float, controls randomness in predictions. Lower values make the model more deterministic.\n",
    "\n",
    "    Returns:\n",
    "    - The index of the predicted word.\n",
    "    \"\"\"\n",
    "    # Use the model to predict the next token in the sequence\n",
    "    yhat = model.predict(sequence, verbose=0)\n",
    "\n",
    "    # Apply temperature to the predictions\n",
    "    yhat = np.asarray(yhat).astype('float64')\n",
    "    yhat = np.log(yhat + 1e-9) / temperature  # Avoid log(0) with a small epsilon\n",
    "    exp_preds = np.exp(yhat)\n",
    "    yhat = exp_preds / np.sum(exp_preds)\n",
    "\n",
    "    # Get the index of the predicted word, according to the probabilities\n",
    "    predicted_index = np.random.choice(range(VOCAB_SIZE), p=yhat.ravel())\n",
    "\n",
    "    return predicted_index\n",
    "\n",
    "def generate_text(model, tokenizer, seed_text, max_sequence_len, num_tokens_to_generate=50, temperature=1.0):\n",
    "    \"\"\"\n",
    "    Generate new text using the trained model.\n",
    "\n",
    "    Args:\n",
    "    - model: The trained RNN model.\n",
    "    - tokenizer: The tokenizer used to preprocess the text data.\n",
    "    - seed_text: The seed text the model will use to generate new text.\n",
    "    - max_sequence_len: The maximum length of the sequence used to generate new text.\n",
    "    - num_tokens_to_generate: Number of tokens to generate.\n",
    "    - temperature: Float, controls randomness in predictions.\n",
    "\n",
    "    Returns:\n",
    "    - Generated text as a single string.\n",
    "    \"\"\"\n",
    "    # Tokenize the seed text\n",
    "    input_sequence = tokenizer.texts_to_sequences([seed_text])[0]\n",
    "\n",
    "    # Initialize the result with the seed text\n",
    "    generated_text = seed_text\n",
    "\n",
    "    for _ in range(num_tokens_to_generate):\n",
    "        input_sequence_padded = pad_sequences([input_sequence], maxlen=max_sequence_len, padding='pre')\n",
    "\n",
    "        predicted_index = get_predicted_word(model, input_sequence_padded, temperature)\n",
    "\n",
    "        predicted_word = tokenizer.index_word.get(predicted_index, '')\n",
    "\n",
    "        generated_text += ' ' + predicted_word\n",
    "\n",
    "        input_sequence.append(predicted_index)\n",
    "        input_sequence = input_sequence[1:]  # Remove the first token\n",
    "\n",
    "        print(predicted_word, end=' ', flush=True)\n",
    "\n",
    "    print() \n",
    "    return generated_text\n",
    "\n"
   ]
  },
  {
   "cell_type": "code",
   "execution_count": null,
   "id": "f463b0c3df49e2c",
   "metadata": {
    "colab": {
     "base_uri": "https://localhost:8080/",
     "height": 90
    },
    "id": "f463b0c3df49e2c",
    "outputId": "53886672-4e15-4c56-abbc-c296feec1cbe"
   },
   "outputs": [
    {
     "name": "stdout",
     "output_type": "stream",
     "text": [
      "1 version 1 5 svg meta name octicon mark 5 896 dsi target aria 16 position lg 0 meta name path svg meta 0 d m12 0 path js header position relative 1 5 py 24 position relative left 0 version 1 flex m12 5 headermenu version 1 details height \n"
     ]
    },
    {
     "data": {
      "application/vnd.google.colaboratory.intrinsic+json": {
       "type": "string"
      },
      "text/plain": [
       "'hamlet 1 version 1 5 svg meta name octicon mark 5 896 dsi target aria 16 position lg 0 meta name path svg meta 0 d m12 0 path js header position relative 1 5 py 24 position relative left 0 version 1 flex m12 5 headermenu version 1 details height'"
      ]
     },
     "execution_count": 30,
     "metadata": {},
     "output_type": "execute_result"
    }
   ],
   "source": [
    "# Test the text generation function\n",
    "generate_text(model, tokenizer, 'hamlet', SEQ_LENGTH)"
   ]
  },
  {
   "cell_type": "markdown",
   "id": "5871d836a0135c41",
   "metadata": {
    "collapsed": false,
    "id": "5871d836a0135c41",
    "jupyter": {
     "outputs_hidden": false
    }
   },
   "source": [
    "It's likely that the text generated by your model doesn't make much sense yet. This is because the model hasn't been trained for very long, and the training dataset is relatively small.\n",
    "\n",
    "# 4. Model Refinement (Complete or Incomplete)\n",
    "\n",
    "In this last section, you'll work on improving your model. There are many ways to do this, but here are a few ideas to get you started:\n",
    "\n",
    "* Use pre-trained embeddings: the code below will help you to load pre-trained embeddings through Keras.\n",
    "* Experiment with different model architectures, including the number of layers, the number of units in each layer, and the use of dropout layers.\n",
    "* Train your model for longer. You can also experiment with different batch sizes.\n",
    "\n",
    "Implement and test out at least one of these ideas. If you have other ideas for improving the model, feel free to try them out as well."
   ]
  },
  {
   "cell_type": "code",
   "execution_count": null,
   "id": "dda8b0f845c20862",
   "metadata": {
    "colab": {
     "base_uri": "https://localhost:8080/"
    },
    "id": "dda8b0f845c20862",
    "outputId": "bd2ff2c1-75a1-498e-8377-a8e7d3f44774"
   },
   "outputs": [
    {
     "name": "stdout",
     "output_type": "stream",
     "text": [
      "--2024-08-04 17:08:19--  https://downloads.cs.stanford.edu/nlp/data/glove.6B.zip\n",
      "Resolving downloads.cs.stanford.edu (downloads.cs.stanford.edu)... 171.64.64.22\n",
      "Connecting to downloads.cs.stanford.edu (downloads.cs.stanford.edu)|171.64.64.22|:443... connected.\n",
      "HTTP request sent, awaiting response... 200 OK\n",
      "Length: 862182613 (822M) [application/zip]\n",
      "Saving to: ‘glove.6B.zip’\n",
      "\n",
      "glove.6B.zip        100%[===================>] 822.24M  5.00MB/s    in 2m 39s  \n",
      "\n",
      "2024-08-04 17:10:58 (5.17 MB/s) - ‘glove.6B.zip’ saved [862182613/862182613]\n",
      "\n",
      "Archive:  glove.6B.zip\n",
      "  inflating: glove.6B.50d.txt        \n",
      "  inflating: glove.6B.100d.txt       \n",
      "  inflating: glove.6B.200d.txt       \n",
      "  inflating: glove.6B.300d.txt       \n"
     ]
    }
   ],
   "source": [
    "!wget https://downloads.cs.stanford.edu/nlp/data/glove.6B.zip\n",
    "!unzip glove.6B.zip"
   ]
  },
  {
   "cell_type": "code",
   "execution_count": null,
   "id": "e8b777220505635",
   "metadata": {
    "colab": {
     "base_uri": "https://localhost:8080/"
    },
    "id": "e8b777220505635",
    "outputId": "f3baa2a8-fbfd-4b62-f35b-49192b10f9fb"
   },
   "outputs": [
    {
     "name": "stdout",
     "output_type": "stream",
     "text": [
      "Found 400000 word vectors.\n"
     ]
    }
   ],
   "source": [
    "# Load the pre-trained embeddings\n",
    "embeddings_index = {}\n",
    "try:\n",
    "    with open('glove.6B.100d.txt', encoding='utf-8') as f:\n",
    "        for line in f:\n",
    "            values = line.split()\n",
    "            word = values[0]\n",
    "            coefs = np.asarray(values[1:], dtype='float32')\n",
    "            embeddings_index[word] = coefs\n",
    "    print(f'Found {len(embeddings_index)} word vectors.')\n",
    "except FileNotFoundError:\n",
    "    print(\"'glove.6B.100d.txt' File not found. Please make sure you have ran the previous cell.\")"
   ]
  },
  {
   "cell_type": "code",
   "execution_count": null,
   "id": "d3e48ff004757cf2",
   "metadata": {
    "id": "d3e48ff004757cf2"
   },
   "outputs": [],
   "source": [
    "if VOCAB_SIZE is None:\n",
    "    print(\"You need to complete the previous parts of your assignment in order for this to work.\")\n",
    "else:\n",
    "    # Create an embedding matrix\n",
    "    embedding_matrix = np.zeros((VOCAB_SIZE, 100))\n",
    "    for word, i in tokenizer.word_index.items():\n",
    "        if i < VOCAB_SIZE:\n",
    "            embedding_vector = embeddings_index.get(word)\n",
    "            if embedding_vector is not None:\n",
    "                embedding_matrix[i] = embedding_vector"
   ]
  },
  {
   "cell_type": "code",
   "execution_count": null,
   "id": "e3d21d5dbbbcf9f9",
   "metadata": {
    "id": "e3d21d5dbbbcf9f9"
   },
   "outputs": [],
   "source": [
    "# Check if VOCAB_SIZE is set\n",
    "if VOCAB_SIZE is None:\n",
    "    print(\"You need to complete the previous parts of your assignment in order for this to work.\")\n",
    "else:\n",
    "    embedding_layer = Embedding(\n",
    "        VOCAB_SIZE, 100, weights=[embedding_matrix], input_length=SEQ_LENGTH, trainable=False\n",
    "    )"
   ]
  },
  {
   "cell_type": "code",
   "id": "236cb723e4e5b3fc",
   "metadata": {
    "colab": {
     "base_uri": "https://localhost:8080/",
     "height": 340
    },
    "id": "236cb723e4e5b3fc",
    "outputId": "0adfe91c-b477-4b2d-96b5-a321eb436c81"
   },
   "source": [
    "from tensorflow.keras.layers import Dropout, LSTM, Dense, Embedding\n",
    "from tensorflow.keras.models import Sequential\n",
    "from tensorflow.keras.optimizers import Adam\n",
    "from tensorflow.keras.layers import GRU\n",
    "import numpy as np\n",
    "\n",
    "embedding_layer = Embedding(\n",
    "    input_dim=VOCAB_SIZE, \n",
    "    output_dim=100,\n",
    "    weights=[embedding_matrix],\n",
    "    input_length=SEQ_LENGTH,\n",
    "    trainable=False\n",
    ")\n",
    "\n",
    "model = Sequential([\n",
    "    embedding_layer,\n",
    "    GRU(256, return_sequences=True),\n",
    "    Dropout(0.3),\n",
    "    GRU(128),\n",
    "    Dropout(0.3),\n",
    "    Dense(VOCAB_SIZE, activation='softmax')\n",
    "])\n",
    "\n",
    "dummy_input = np.zeros((1, SEQ_LENGTH), dtype=np.int32)\n",
    "model(dummy_input)\n",
    "\n",
    "model.compile(\n",
    "    loss='categorical_crossentropy',\n",
    "    optimizer=Adam(learning_rate=0.0005),\n",
    "    metrics=['accuracy', 'precision', 'recall']\n",
    ")\n",
    "\n"
   ],
   "outputs": [],
   "execution_count": null
  },
  {
   "cell_type": "code",
   "execution_count": null,
   "id": "lclcRhWUYtvY",
   "metadata": {
    "colab": {
     "base_uri": "https://localhost:8080/"
    },
    "id": "lclcRhWUYtvY",
    "outputId": "78f4a743-a589-421e-9ad5-d6ae4e3b9e26"
   },
   "outputs": [
    {
     "name": "stdout",
     "output_type": "stream",
     "text": [
      "Epoch 1/70\n",
      "\u001B[1m23/23\u001B[0m \u001B[32m━━━━━━━━━━━━━━━━━━━━\u001B[0m\u001B[37m\u001B[0m \u001B[1m5s\u001B[0m 60ms/step - accuracy: 0.0491 - loss: 6.5303 - precision: 0.0000e+00 - recall: 0.0000e+00 - val_accuracy: 0.0954 - val_loss: 5.9130 - val_precision: 0.0000e+00 - val_recall: 0.0000e+00\n",
      "Epoch 2/70\n",
      "\u001B[1m23/23\u001B[0m \u001B[32m━━━━━━━━━━━━━━━━━━━━\u001B[0m\u001B[37m\u001B[0m \u001B[1m2s\u001B[0m 29ms/step - accuracy: 0.0592 - loss: 5.7247 - precision: 0.0000e+00 - recall: 0.0000e+00 - val_accuracy: 0.1010 - val_loss: 5.3923 - val_precision: 0.0000e+00 - val_recall: 0.0000e+00\n",
      "Epoch 3/70\n",
      "\u001B[1m23/23\u001B[0m \u001B[32m━━━━━━━━━━━━━━━━━━━━\u001B[0m\u001B[37m\u001B[0m \u001B[1m1s\u001B[0m 22ms/step - accuracy: 0.1053 - loss: 5.2747 - precision: 0.0000e+00 - recall: 0.0000e+00 - val_accuracy: 0.1286 - val_loss: 5.1227 - val_precision: 0.0000e+00 - val_recall: 0.0000e+00\n",
      "Epoch 4/70\n",
      "\u001B[1m23/23\u001B[0m \u001B[32m━━━━━━━━━━━━━━━━━━━━\u001B[0m\u001B[37m\u001B[0m \u001B[1m0s\u001B[0m 17ms/step - accuracy: 0.1359 - loss: 4.9190 - precision: 0.0000e+00 - recall: 0.0000e+00 - val_accuracy: 0.1715 - val_loss: 4.8619 - val_precision: 0.0000e+00 - val_recall: 0.0000e+00\n",
      "Epoch 5/70\n",
      "\u001B[1m23/23\u001B[0m \u001B[32m━━━━━━━━━━━━━━━━━━━━\u001B[0m\u001B[37m\u001B[0m \u001B[1m0s\u001B[0m 18ms/step - accuracy: 0.2048 - loss: 4.6013 - precision: 0.2083 - recall: 1.7823e-04 - val_accuracy: 0.2586 - val_loss: 4.6083 - val_precision: 0.0000e+00 - val_recall: 0.0000e+00\n",
      "Epoch 6/70\n",
      "\u001B[1m23/23\u001B[0m \u001B[32m━━━━━━━━━━━━━━━━━━━━\u001B[0m\u001B[37m\u001B[0m \u001B[1m1s\u001B[0m 18ms/step - accuracy: 0.2731 - loss: 4.3350 - precision: 0.9953 - recall: 0.0088 - val_accuracy: 0.3250 - val_loss: 4.3655 - val_precision: 1.0000 - val_recall: 0.0290\n",
      "Epoch 7/70\n",
      "\u001B[1m23/23\u001B[0m \u001B[32m━━━━━━━━━━━━━━━━━━━━\u001B[0m\u001B[37m\u001B[0m \u001B[1m0s\u001B[0m 18ms/step - accuracy: 0.3190 - loss: 4.0951 - precision: 0.9937 - recall: 0.0308 - val_accuracy: 0.3651 - val_loss: 4.1726 - val_precision: 1.0000 - val_recall: 0.0705\n",
      "Epoch 8/70\n",
      "\u001B[1m23/23\u001B[0m \u001B[32m━━━━━━━━━━━━━━━━━━━━\u001B[0m\u001B[37m\u001B[0m \u001B[1m0s\u001B[0m 17ms/step - accuracy: 0.3479 - loss: 3.9411 - precision: 0.9792 - recall: 0.0823 - val_accuracy: 0.3734 - val_loss: 4.0304 - val_precision: 0.9840 - val_recall: 0.1701\n",
      "Epoch 9/70\n",
      "\u001B[1m23/23\u001B[0m \u001B[32m━━━━━━━━━━━━━━━━━━━━\u001B[0m\u001B[37m\u001B[0m \u001B[1m0s\u001B[0m 17ms/step - accuracy: 0.3664 - loss: 3.7151 - precision: 0.9812 - recall: 0.1485 - val_accuracy: 0.3804 - val_loss: 3.8905 - val_precision: 0.9742 - val_recall: 0.2089\n",
      "Epoch 10/70\n",
      "\u001B[1m23/23\u001B[0m \u001B[32m━━━━━━━━━━━━━━━━━━━━\u001B[0m\u001B[37m\u001B[0m \u001B[1m0s\u001B[0m 18ms/step - accuracy: 0.3832 - loss: 3.5551 - precision: 0.9552 - recall: 0.1927 - val_accuracy: 0.3983 - val_loss: 3.7697 - val_precision: 0.9780 - val_recall: 0.2462\n",
      "Epoch 11/70\n",
      "\u001B[1m23/23\u001B[0m \u001B[32m━━━━━━━━━━━━━━━━━━━━\u001B[0m\u001B[37m\u001B[0m \u001B[1m1s\u001B[0m 18ms/step - accuracy: 0.4072 - loss: 3.3510 - precision: 0.9588 - recall: 0.2369 - val_accuracy: 0.4205 - val_loss: 3.6802 - val_precision: 0.9734 - val_recall: 0.2531\n",
      "Epoch 12/70\n",
      "\u001B[1m23/23\u001B[0m \u001B[32m━━━━━━━━━━━━━━━━━━━━\u001B[0m\u001B[37m\u001B[0m \u001B[1m0s\u001B[0m 18ms/step - accuracy: 0.4058 - loss: 3.3346 - precision: 0.9666 - recall: 0.2474 - val_accuracy: 0.4260 - val_loss: 3.6089 - val_precision: 0.9686 - val_recall: 0.2559\n",
      "Epoch 13/70\n",
      "\u001B[1m23/23\u001B[0m \u001B[32m━━━━━━━━━━━━━━━━━━━━\u001B[0m\u001B[37m\u001B[0m \u001B[1m1s\u001B[0m 16ms/step - accuracy: 0.4364 - loss: 3.1105 - precision: 0.9434 - recall: 0.2655 - val_accuracy: 0.4398 - val_loss: 3.5284 - val_precision: 0.9648 - val_recall: 0.2656\n",
      "Epoch 14/70\n",
      "\u001B[1m23/23\u001B[0m \u001B[32m━━━━━━━━━━━━━━━━━━━━\u001B[0m\u001B[37m\u001B[0m \u001B[1m0s\u001B[0m 17ms/step - accuracy: 0.4321 - loss: 3.0927 - precision: 0.9621 - recall: 0.2668 - val_accuracy: 0.4454 - val_loss: 3.4748 - val_precision: 0.9437 - val_recall: 0.2780\n",
      "Epoch 15/70\n",
      "\u001B[1m23/23\u001B[0m \u001B[32m━━━━━━━━━━━━━━━━━━━━\u001B[0m\u001B[37m\u001B[0m \u001B[1m0s\u001B[0m 17ms/step - accuracy: 0.4463 - loss: 2.9985 - precision: 0.9381 - recall: 0.2784 - val_accuracy: 0.4675 - val_loss: 3.4095 - val_precision: 0.9535 - val_recall: 0.2835\n",
      "Epoch 16/70\n",
      "\u001B[1m23/23\u001B[0m \u001B[32m━━━━━━━━━━━━━━━━━━━━\u001B[0m\u001B[37m\u001B[0m \u001B[1m1s\u001B[0m 18ms/step - accuracy: 0.4696 - loss: 2.8940 - precision: 0.9532 - recall: 0.2964 - val_accuracy: 0.4675 - val_loss: 3.3744 - val_precision: 0.9356 - val_recall: 0.3015\n",
      "Epoch 17/70\n",
      "\u001B[1m23/23\u001B[0m \u001B[32m━━━━━━━━━━━━━━━━━━━━\u001B[0m\u001B[37m\u001B[0m \u001B[1m0s\u001B[0m 17ms/step - accuracy: 0.4818 - loss: 2.7597 - precision: 0.9378 - recall: 0.3047 - val_accuracy: 0.4772 - val_loss: 3.3139 - val_precision: 0.9244 - val_recall: 0.3043\n",
      "Epoch 18/70\n",
      "\u001B[1m23/23\u001B[0m \u001B[32m━━━━━━━━━━━━━━━━━━━━\u001B[0m\u001B[37m\u001B[0m \u001B[1m1s\u001B[0m 18ms/step - accuracy: 0.5090 - loss: 2.6333 - precision: 0.9355 - recall: 0.3144 - val_accuracy: 0.4744 - val_loss: 3.2736 - val_precision: 0.9289 - val_recall: 0.3071\n",
      "Epoch 19/70\n",
      "\u001B[1m23/23\u001B[0m \u001B[32m━━━━━━━━━━━━━━━━━━━━\u001B[0m\u001B[37m\u001B[0m \u001B[1m0s\u001B[0m 18ms/step - accuracy: 0.4902 - loss: 2.6316 - precision: 0.9348 - recall: 0.3174 - val_accuracy: 0.4869 - val_loss: 3.2429 - val_precision: 0.9357 - val_recall: 0.3223\n",
      "Epoch 20/70\n",
      "\u001B[1m23/23\u001B[0m \u001B[32m━━━━━━━━━━━━━━━━━━━━\u001B[0m\u001B[37m\u001B[0m \u001B[1m0s\u001B[0m 18ms/step - accuracy: 0.5039 - loss: 2.5907 - precision: 0.9482 - recall: 0.3219 - val_accuracy: 0.4869 - val_loss: 3.2139 - val_precision: 0.9425 - val_recall: 0.3402\n",
      "Epoch 21/70\n",
      "\u001B[1m23/23\u001B[0m \u001B[32m━━━━━━━━━━━━━━━━━━━━\u001B[0m\u001B[37m\u001B[0m \u001B[1m0s\u001B[0m 17ms/step - accuracy: 0.5105 - loss: 2.4757 - precision: 0.9412 - recall: 0.3373 - val_accuracy: 0.4813 - val_loss: 3.1755 - val_precision: 0.9474 - val_recall: 0.3485\n",
      "Epoch 22/70\n",
      "\u001B[1m23/23\u001B[0m \u001B[32m━━━━━━━━━━━━━━━━━━━━\u001B[0m\u001B[37m\u001B[0m \u001B[1m1s\u001B[0m 18ms/step - accuracy: 0.5171 - loss: 2.3810 - precision: 0.9479 - recall: 0.3535 - val_accuracy: 0.4910 - val_loss: 3.1430 - val_precision: 0.9286 - val_recall: 0.3596\n",
      "Epoch 23/70\n",
      "\u001B[1m23/23\u001B[0m \u001B[32m━━━━━━━━━━━━━━━━━━━━\u001B[0m\u001B[37m\u001B[0m \u001B[1m0s\u001B[0m 17ms/step - accuracy: 0.5292 - loss: 2.3259 - precision: 0.9418 - recall: 0.3509 - val_accuracy: 0.4910 - val_loss: 3.1319 - val_precision: 0.9146 - val_recall: 0.3555\n",
      "Epoch 24/70\n",
      "\u001B[1m23/23\u001B[0m \u001B[32m━━━━━━━━━━━━━━━━━━━━\u001B[0m\u001B[37m\u001B[0m \u001B[1m1s\u001B[0m 20ms/step - accuracy: 0.5448 - loss: 2.2495 - precision: 0.9365 - recall: 0.3558 - val_accuracy: 0.4938 - val_loss: 3.1031 - val_precision: 0.9231 - val_recall: 0.3651\n",
      "Epoch 25/70\n",
      "\u001B[1m23/23\u001B[0m \u001B[32m━━━━━━━━━━━━━━━━━━━━\u001B[0m\u001B[37m\u001B[0m \u001B[1m1s\u001B[0m 21ms/step - accuracy: 0.5375 - loss: 2.2652 - precision: 0.9476 - recall: 0.3537 - val_accuracy: 0.4938 - val_loss: 3.0783 - val_precision: 0.9201 - val_recall: 0.3665\n",
      "Epoch 26/70\n",
      "\u001B[1m23/23\u001B[0m \u001B[32m━━━━━━━━━━━━━━━━━━━━\u001B[0m\u001B[37m\u001B[0m \u001B[1m1s\u001B[0m 22ms/step - accuracy: 0.5649 - loss: 2.1272 - precision: 0.9280 - recall: 0.3773 - val_accuracy: 0.4993 - val_loss: 3.0576 - val_precision: 0.9125 - val_recall: 0.3748\n",
      "Epoch 27/70\n",
      "\u001B[1m23/23\u001B[0m \u001B[32m━━━━━━━━━━━━━━━━━━━━\u001B[0m\u001B[37m\u001B[0m \u001B[1m1s\u001B[0m 21ms/step - accuracy: 0.5525 - loss: 2.1622 - precision: 0.9332 - recall: 0.3735 - val_accuracy: 0.5062 - val_loss: 3.0382 - val_precision: 0.9073 - val_recall: 0.3790\n",
      "Epoch 28/70\n",
      "\u001B[1m23/23\u001B[0m \u001B[32m━━━━━━━━━━━━━━━━━━━━\u001B[0m\u001B[37m\u001B[0m \u001B[1m1s\u001B[0m 22ms/step - accuracy: 0.5694 - loss: 2.0575 - precision: 0.9503 - recall: 0.3866 - val_accuracy: 0.4993 - val_loss: 3.0203 - val_precision: 0.9249 - val_recall: 0.3748\n",
      "Epoch 29/70\n",
      "\u001B[1m23/23\u001B[0m \u001B[32m━━━━━━━━━━━━━━━━━━━━\u001B[0m\u001B[37m\u001B[0m \u001B[1m1s\u001B[0m 22ms/step - accuracy: 0.5799 - loss: 1.9809 - precision: 0.9353 - recall: 0.3944 - val_accuracy: 0.5131 - val_loss: 2.9935 - val_precision: 0.9076 - val_recall: 0.3804\n",
      "Epoch 30/70\n",
      "\u001B[1m23/23\u001B[0m \u001B[32m━━━━━━━━━━━━━━━━━━━━\u001B[0m\u001B[37m\u001B[0m \u001B[1m1s\u001B[0m 22ms/step - accuracy: 0.5972 - loss: 1.9567 - precision: 0.9304 - recall: 0.4020 - val_accuracy: 0.5228 - val_loss: 2.9661 - val_precision: 0.9118 - val_recall: 0.3859\n",
      "Epoch 31/70\n",
      "\u001B[1m23/23\u001B[0m \u001B[32m━━━━━━━━━━━━━━━━━━━━\u001B[0m\u001B[37m\u001B[0m \u001B[1m1s\u001B[0m 23ms/step - accuracy: 0.6043 - loss: 1.8602 - precision: 0.9511 - recall: 0.4115 - val_accuracy: 0.5201 - val_loss: 2.9769 - val_precision: 0.9223 - val_recall: 0.3776\n",
      "Epoch 32/70\n",
      "\u001B[1m23/23\u001B[0m \u001B[32m━━━━━━━━━━━━━━━━━━━━\u001B[0m\u001B[37m\u001B[0m \u001B[1m1s\u001B[0m 26ms/step - accuracy: 0.5941 - loss: 1.9099 - precision: 0.9323 - recall: 0.3942 - val_accuracy: 0.5201 - val_loss: 2.9649 - val_precision: 0.9117 - val_recall: 0.3997\n",
      "Epoch 33/70\n",
      "\u001B[1m23/23\u001B[0m \u001B[32m━━━━━━━━━━━━━━━━━━━━\u001B[0m\u001B[37m\u001B[0m \u001B[1m1s\u001B[0m 24ms/step - accuracy: 0.6053 - loss: 1.8184 - precision: 0.9315 - recall: 0.4140 - val_accuracy: 0.5214 - val_loss: 2.9413 - val_precision: 0.9082 - val_recall: 0.3970\n",
      "Epoch 34/70\n",
      "\u001B[1m23/23\u001B[0m \u001B[32m━━━━━━━━━━━━━━━━━━━━\u001B[0m\u001B[37m\u001B[0m \u001B[1m1s\u001B[0m 24ms/step - accuracy: 0.6187 - loss: 1.7942 - precision: 0.9484 - recall: 0.4197 - val_accuracy: 0.5270 - val_loss: 2.9385 - val_precision: 0.9025 - val_recall: 0.3970\n",
      "Epoch 35/70\n",
      "\u001B[1m23/23\u001B[0m \u001B[32m━━━━━━━━━━━━━━━━━━━━\u001B[0m\u001B[37m\u001B[0m \u001B[1m1s\u001B[0m 22ms/step - accuracy: 0.6176 - loss: 1.7337 - precision: 0.9478 - recall: 0.4299 - val_accuracy: 0.5367 - val_loss: 2.9340 - val_precision: 0.8933 - val_recall: 0.4053\n",
      "Epoch 36/70\n",
      "\u001B[1m23/23\u001B[0m \u001B[32m━━━━━━━━━━━━━━━━━━━━\u001B[0m\u001B[37m\u001B[0m \u001B[1m1s\u001B[0m 23ms/step - accuracy: 0.6201 - loss: 1.7323 - precision: 0.9403 - recall: 0.4237 - val_accuracy: 0.5394 - val_loss: 2.9175 - val_precision: 0.9015 - val_recall: 0.4053\n",
      "Epoch 37/70\n",
      "\u001B[1m23/23\u001B[0m \u001B[32m━━━━━━━━━━━━━━━━━━━━\u001B[0m\u001B[37m\u001B[0m \u001B[1m1s\u001B[0m 24ms/step - accuracy: 0.6276 - loss: 1.6904 - precision: 0.9362 - recall: 0.4308 - val_accuracy: 0.5394 - val_loss: 2.9020 - val_precision: 0.9027 - val_recall: 0.4108\n",
      "Epoch 38/70\n",
      "\u001B[1m23/23\u001B[0m \u001B[32m━━━━━━━━━━━━━━━━━━━━\u001B[0m\u001B[37m\u001B[0m \u001B[1m1s\u001B[0m 24ms/step - accuracy: 0.6351 - loss: 1.6568 - precision: 0.9403 - recall: 0.4243 - val_accuracy: 0.5408 - val_loss: 2.8851 - val_precision: 0.8946 - val_recall: 0.4108\n",
      "Epoch 39/70\n",
      "\u001B[1m23/23\u001B[0m \u001B[32m━━━━━━━━━━━━━━━━━━━━\u001B[0m\u001B[37m\u001B[0m \u001B[1m1s\u001B[0m 24ms/step - accuracy: 0.6482 - loss: 1.5972 - precision: 0.9366 - recall: 0.4304 - val_accuracy: 0.5422 - val_loss: 2.8859 - val_precision: 0.9018 - val_recall: 0.4191\n",
      "Epoch 40/70\n",
      "\u001B[1m23/23\u001B[0m \u001B[32m━━━━━━━━━━━━━━━━━━━━\u001B[0m\u001B[37m\u001B[0m \u001B[1m1s\u001B[0m 24ms/step - accuracy: 0.6609 - loss: 1.5340 - precision: 0.9520 - recall: 0.4506 - val_accuracy: 0.5477 - val_loss: 2.8804 - val_precision: 0.9006 - val_recall: 0.4260\n",
      "Epoch 41/70\n",
      "\u001B[1m23/23\u001B[0m \u001B[32m━━━━━━━━━━━━━━━━━━━━\u001B[0m\u001B[37m\u001B[0m \u001B[1m1s\u001B[0m 24ms/step - accuracy: 0.6631 - loss: 1.5481 - precision: 0.9493 - recall: 0.4463 - val_accuracy: 0.5519 - val_loss: 2.8630 - val_precision: 0.9035 - val_recall: 0.4274\n",
      "Epoch 42/70\n",
      "\u001B[1m23/23\u001B[0m \u001B[32m━━━━━━━━━━━━━━━━━━━━\u001B[0m\u001B[37m\u001B[0m \u001B[1m1s\u001B[0m 22ms/step - accuracy: 0.6772 - loss: 1.4677 - precision: 0.9500 - recall: 0.4592 - val_accuracy: 0.5477 - val_loss: 2.8653 - val_precision: 0.8901 - val_recall: 0.4371\n",
      "Epoch 43/70\n",
      "\u001B[1m23/23\u001B[0m \u001B[32m━━━━━━━━━━━━━━━━━━━━\u001B[0m\u001B[37m\u001B[0m \u001B[1m1s\u001B[0m 23ms/step - accuracy: 0.6666 - loss: 1.4828 - precision: 0.9335 - recall: 0.4632 - val_accuracy: 0.5491 - val_loss: 2.8550 - val_precision: 0.8974 - val_recall: 0.4357\n",
      "Epoch 44/70\n",
      "\u001B[1m23/23\u001B[0m \u001B[32m━━━━━━━━━━━━━━━━━━━━\u001B[0m\u001B[37m\u001B[0m \u001B[1m1s\u001B[0m 24ms/step - accuracy: 0.6859 - loss: 1.4324 - precision: 0.9524 - recall: 0.4670 - val_accuracy: 0.5546 - val_loss: 2.8483 - val_precision: 0.8971 - val_recall: 0.4343\n",
      "Epoch 45/70\n",
      "\u001B[1m23/23\u001B[0m \u001B[32m━━━━━━━━━━━━━━━━━━━━\u001B[0m\u001B[37m\u001B[0m \u001B[1m1s\u001B[0m 24ms/step - accuracy: 0.6854 - loss: 1.4349 - precision: 0.9452 - recall: 0.4510 - val_accuracy: 0.5602 - val_loss: 2.8471 - val_precision: 0.8939 - val_recall: 0.4426\n",
      "Epoch 46/70\n",
      "\u001B[1m23/23\u001B[0m \u001B[32m━━━━━━━━━━━━━━━━━━━━\u001B[0m\u001B[37m\u001B[0m \u001B[1m1s\u001B[0m 23ms/step - accuracy: 0.6999 - loss: 1.3594 - precision: 0.9541 - recall: 0.4679 - val_accuracy: 0.5574 - val_loss: 2.8499 - val_precision: 0.8886 - val_recall: 0.4302\n",
      "Epoch 47/70\n",
      "\u001B[1m23/23\u001B[0m \u001B[32m━━━━━━━━━━━━━━━━━━━━\u001B[0m\u001B[37m\u001B[0m \u001B[1m1s\u001B[0m 21ms/step - accuracy: 0.6916 - loss: 1.3360 - precision: 0.9396 - recall: 0.4882 - val_accuracy: 0.5588 - val_loss: 2.8369 - val_precision: 0.9020 - val_recall: 0.4454\n",
      "Epoch 48/70\n",
      "\u001B[1m23/23\u001B[0m \u001B[32m━━━━━━━━━━━━━━━━━━━━\u001B[0m\u001B[37m\u001B[0m \u001B[1m1s\u001B[0m 23ms/step - accuracy: 0.7222 - loss: 1.2571 - precision: 0.9513 - recall: 0.5154 - val_accuracy: 0.5602 - val_loss: 2.8392 - val_precision: 0.9000 - val_recall: 0.4357\n",
      "Epoch 49/70\n",
      "\u001B[1m23/23\u001B[0m \u001B[32m━━━━━━━━━━━━━━━━━━━━\u001B[0m\u001B[37m\u001B[0m \u001B[1m1s\u001B[0m 22ms/step - accuracy: 0.7137 - loss: 1.2721 - precision: 0.9488 - recall: 0.4907 - val_accuracy: 0.5560 - val_loss: 2.8397 - val_precision: 0.8877 - val_recall: 0.4481\n",
      "Epoch 50/70\n",
      "\u001B[1m23/23\u001B[0m \u001B[32m━━━━━━━━━━━━━━━━━━━━\u001B[0m\u001B[37m\u001B[0m \u001B[1m1s\u001B[0m 18ms/step - accuracy: 0.7133 - loss: 1.2598 - precision: 0.9515 - recall: 0.4910 - val_accuracy: 0.5588 - val_loss: 2.8242 - val_precision: 0.8981 - val_recall: 0.4509\n",
      "Epoch 51/70\n",
      "\u001B[1m23/23\u001B[0m \u001B[32m━━━━━━━━━━━━━━━━━━━━\u001B[0m\u001B[37m\u001B[0m \u001B[1m0s\u001B[0m 17ms/step - accuracy: 0.7205 - loss: 1.2254 - precision: 0.9542 - recall: 0.4939 - val_accuracy: 0.5602 - val_loss: 2.8359 - val_precision: 0.8892 - val_recall: 0.4550\n",
      "Epoch 52/70\n",
      "\u001B[1m23/23\u001B[0m \u001B[32m━━━━━━━━━━━━━━━━━━━━\u001B[0m\u001B[37m\u001B[0m \u001B[1m0s\u001B[0m 17ms/step - accuracy: 0.7336 - loss: 1.2014 - precision: 0.9637 - recall: 0.4994 - val_accuracy: 0.5574 - val_loss: 2.8306 - val_precision: 0.8919 - val_recall: 0.4564\n",
      "Epoch 53/70\n",
      "\u001B[1m23/23\u001B[0m \u001B[32m━━━━━━━━━━━━━━━━━━━━\u001B[0m\u001B[37m\u001B[0m \u001B[1m0s\u001B[0m 18ms/step - accuracy: 0.7400 - loss: 1.1381 - precision: 0.9573 - recall: 0.5253 - val_accuracy: 0.5588 - val_loss: 2.8284 - val_precision: 0.8851 - val_recall: 0.4689\n",
      "Epoch 54/70\n",
      "\u001B[1m23/23\u001B[0m \u001B[32m━━━━━━━━━━━━━━━━━━━━\u001B[0m\u001B[37m\u001B[0m \u001B[1m1s\u001B[0m 18ms/step - accuracy: 0.7601 - loss: 1.0994 - precision: 0.9560 - recall: 0.5396 - val_accuracy: 0.5588 - val_loss: 2.8372 - val_precision: 0.8816 - val_recall: 0.4633\n",
      "Epoch 55/70\n",
      "\u001B[1m23/23\u001B[0m \u001B[32m━━━━━━━━━━━━━━━━━━━━\u001B[0m\u001B[37m\u001B[0m \u001B[1m0s\u001B[0m 16ms/step - accuracy: 0.7573 - loss: 1.0907 - precision: 0.9438 - recall: 0.5249 - val_accuracy: 0.5629 - val_loss: 2.8165 - val_precision: 0.8825 - val_recall: 0.4675\n",
      "Epoch 56/70\n",
      "\u001B[1m23/23\u001B[0m \u001B[32m━━━━━━━━━━━━━━━━━━━━\u001B[0m\u001B[37m\u001B[0m \u001B[1m1s\u001B[0m 17ms/step - accuracy: 0.7519 - loss: 1.0738 - precision: 0.9579 - recall: 0.5498 - val_accuracy: 0.5615 - val_loss: 2.8196 - val_precision: 0.8880 - val_recall: 0.4716\n",
      "Epoch 57/70\n",
      "\u001B[1m23/23\u001B[0m \u001B[32m━━━━━━━━━━━━━━━━━━━━\u001B[0m\u001B[37m\u001B[0m \u001B[1m1s\u001B[0m 18ms/step - accuracy: 0.7676 - loss: 1.0679 - precision: 0.9627 - recall: 0.5400 - val_accuracy: 0.5671 - val_loss: 2.8193 - val_precision: 0.9034 - val_recall: 0.4786\n",
      "Epoch 58/70\n",
      "\u001B[1m23/23\u001B[0m \u001B[32m━━━━━━━━━━━━━━━━━━━━\u001B[0m\u001B[37m\u001B[0m \u001B[1m1s\u001B[0m 19ms/step - accuracy: 0.7704 - loss: 1.0413 - precision: 0.9536 - recall: 0.5458 - val_accuracy: 0.5712 - val_loss: 2.8199 - val_precision: 0.8920 - val_recall: 0.4799\n",
      "Epoch 59/70\n",
      "\u001B[1m23/23\u001B[0m \u001B[32m━━━━━━━━━━━━━━━━━━━━\u001B[0m\u001B[37m\u001B[0m \u001B[1m1s\u001B[0m 17ms/step - accuracy: 0.7867 - loss: 0.9774 - precision: 0.9633 - recall: 0.5659 - val_accuracy: 0.5698 - val_loss: 2.8250 - val_precision: 0.8875 - val_recall: 0.4799\n",
      "Epoch 60/70\n",
      "\u001B[1m23/23\u001B[0m \u001B[32m━━━━━━━━━━━━━━━━━━━━\u001B[0m\u001B[37m\u001B[0m \u001B[1m0s\u001B[0m 18ms/step - accuracy: 0.7892 - loss: 0.9727 - precision: 0.9503 - recall: 0.5594 - val_accuracy: 0.5629 - val_loss: 2.8295 - val_precision: 0.8804 - val_recall: 0.4786\n",
      "Epoch 61/70\n",
      "\u001B[1m23/23\u001B[0m \u001B[32m━━━━━━━━━━━━━━━━━━━━\u001B[0m\u001B[37m\u001B[0m \u001B[1m0s\u001B[0m 18ms/step - accuracy: 0.7964 - loss: 0.9470 - precision: 0.9631 - recall: 0.5669 - val_accuracy: 0.5712 - val_loss: 2.8125 - val_precision: 0.8943 - val_recall: 0.4799\n",
      "Epoch 62/70\n",
      "\u001B[1m23/23\u001B[0m \u001B[32m━━━━━━━━━━━━━━━━━━━━\u001B[0m\u001B[37m\u001B[0m \u001B[1m1s\u001B[0m 18ms/step - accuracy: 0.7906 - loss: 0.9626 - precision: 0.9582 - recall: 0.5684 - val_accuracy: 0.5726 - val_loss: 2.8363 - val_precision: 0.8788 - val_recall: 0.4813\n",
      "Epoch 63/70\n",
      "\u001B[1m23/23\u001B[0m \u001B[32m━━━━━━━━━━━━━━━━━━━━\u001B[0m\u001B[37m\u001B[0m \u001B[1m1s\u001B[0m 18ms/step - accuracy: 0.8091 - loss: 0.9134 - precision: 0.9576 - recall: 0.5736 - val_accuracy: 0.5698 - val_loss: 2.8246 - val_precision: 0.8832 - val_recall: 0.4813\n",
      "Epoch 64/70\n",
      "\u001B[1m23/23\u001B[0m \u001B[32m━━━━━━━━━━━━━━━━━━━━\u001B[0m\u001B[37m\u001B[0m \u001B[1m0s\u001B[0m 17ms/step - accuracy: 0.8158 - loss: 0.8824 - precision: 0.9648 - recall: 0.5869 - val_accuracy: 0.5698 - val_loss: 2.8336 - val_precision: 0.8759 - val_recall: 0.4882\n",
      "Epoch 65/70\n",
      "\u001B[1m23/23\u001B[0m \u001B[32m━━━━━━━━━━━━━━━━━━━━\u001B[0m\u001B[37m\u001B[0m \u001B[1m1s\u001B[0m 18ms/step - accuracy: 0.8249 - loss: 0.8641 - precision: 0.9658 - recall: 0.5920 - val_accuracy: 0.5671 - val_loss: 2.8362 - val_precision: 0.8686 - val_recall: 0.4938\n",
      "Epoch 66/70\n",
      "\u001B[1m23/23\u001B[0m \u001B[32m━━━━━━━━━━━━━━━━━━━━\u001B[0m\u001B[37m\u001B[0m \u001B[1m1s\u001B[0m 18ms/step - accuracy: 0.8065 - loss: 0.8662 - precision: 0.9586 - recall: 0.5885 - val_accuracy: 0.5754 - val_loss: 2.8306 - val_precision: 0.8908 - val_recall: 0.4965\n",
      "Epoch 67/70\n",
      "\u001B[1m23/23\u001B[0m \u001B[32m━━━━━━━━━━━━━━━━━━━━\u001B[0m\u001B[37m\u001B[0m \u001B[1m0s\u001B[0m 17ms/step - accuracy: 0.8282 - loss: 0.8189 - precision: 0.9674 - recall: 0.6134 - val_accuracy: 0.5657 - val_loss: 2.8316 - val_precision: 0.8665 - val_recall: 0.4938\n",
      "Epoch 68/70\n",
      "\u001B[1m23/23\u001B[0m \u001B[32m━━━━━━━━━━━━━━━━━━━━\u001B[0m\u001B[37m\u001B[0m \u001B[1m1s\u001B[0m 21ms/step - accuracy: 0.8323 - loss: 0.8023 - precision: 0.9579 - recall: 0.6053 - val_accuracy: 0.5671 - val_loss: 2.8445 - val_precision: 0.8595 - val_recall: 0.4993\n",
      "Epoch 69/70\n",
      "\u001B[1m23/23\u001B[0m \u001B[32m━━━━━━━━━━━━━━━━━━━━\u001B[0m\u001B[37m\u001B[0m \u001B[1m1s\u001B[0m 22ms/step - accuracy: 0.8294 - loss: 0.8103 - precision: 0.9699 - recall: 0.6220 - val_accuracy: 0.5685 - val_loss: 2.8481 - val_precision: 0.8630 - val_recall: 0.4965\n",
      "Epoch 70/70\n",
      "\u001B[1m23/23\u001B[0m \u001B[32m━━━━━━━━━━━━━━━━━━━━\u001B[0m\u001B[37m\u001B[0m \u001B[1m1s\u001B[0m 21ms/step - accuracy: 0.8270 - loss: 0.7968 - precision: 0.9650 - recall: 0.6236 - val_accuracy: 0.5671 - val_loss: 2.8461 - val_precision: 0.8608 - val_recall: 0.5048\n"
     ]
    }
   ],
   "source": [
    "history = model.fit(\n",
    "    X_train, y_train,\n",
    "    epochs=70,\n",
    "    batch_size=128,\n",
    "    validation_data=(X_val, y_val),\n",
    "    verbose=1\n",
    ")\n",
    "\n"
   ]
  },
  {
   "cell_type": "code",
   "execution_count": null,
   "id": "Ws3-1VgyZ1Aa",
   "metadata": {
    "colab": {
     "base_uri": "https://localhost:8080/",
     "height": 1000
    },
    "id": "Ws3-1VgyZ1Aa",
    "outputId": "2b276c4d-550b-4666-d368-b4c6bbad96c8"
   },
   "outputs": [
    {
     "data": {
      "image/png": "[encoded data removed]",
      "text/plain": [
       "<Figure size 1000x600 with 1 Axes>"
      ]
     },
     "metadata": {},
     "output_type": "display_data"
    },
    {
     "data": {
      "image/png": "[encoded data removed]",
      "text/plain": [
       "<Figure size 1000x600 with 1 Axes>"
      ]
     },
     "metadata": {},
     "output_type": "display_data"
    }
   ],
   "source": [
    "import matplotlib.pyplot as plt\n",
    "\n",
    "plt.figure(figsize=(10, 6))\n",
    "plt.plot(history.history['loss'], label='Training Loss', color='blue', linewidth=2)\n",
    "plt.plot(history.history['val_loss'], label='Validation Loss', color='orange', linewidth=2)\n",
    "plt.xlabel('Epoch', fontsize=14)\n",
    "plt.ylabel('Loss', fontsize=14)\n",
    "plt.title('Training and Validation Loss Over Epochs', fontsize=16)\n",
    "plt.legend(fontsize=12)\n",
    "plt.grid(True)\n",
    "plt.show()\n",
    "\n",
    "plt.figure(figsize=(10, 6))\n",
    "plt.plot(history.history['accuracy'], label='Training Accuracy', color='blue', linewidth=2)\n",
    "plt.plot(history.history['val_accuracy'], label='Validation Accuracy', color='orange', linewidth=2)\n",
    "plt.xlabel('Epoch', fontsize=14)\n",
    "plt.ylabel('Accuracy', fontsize=14)\n",
    "plt.title('Training and Validation Accuracy Over Epochs', fontsize=16)\n",
    "plt.legend(fontsize=12)\n",
    "plt.grid(True)\n",
    "plt.show()\n"
   ]
  },
  {
   "cell_type": "markdown",
   "id": "742095fb",
   "metadata": {
    "id": "742095fb"
   },
   "source": [
    "## Criteria\n",
    "\n",
    "|Criteria|Complete|Incomplete|\n",
    "|----|----|----|\n",
    "|Task 1|The task has been completed successfully and there are no errors.|The task is still incomplete and there is at least one error.|\n",
    "|Task 2|The task has been completed successfully and there are no errors.|The task is still incomplete and there is at least one error.|\n",
    "|Task 3|The task has been completed successfully and there are no errors.|The task is still incomplete and there is at least one error.|\n",
    "|Task 4|The task has been completed successfully and there are no errors.|The task is still incomplete and there is at least one error.|"
   ]
  },
  {
   "cell_type": "markdown",
   "id": "1990e2d2",
   "metadata": {
    "id": "1990e2d2"
   },
   "source": [
    "## Submission Information\n",
    "\n",
    "🚨**Please review our [Assignment Submission Guide](https://github.com/UofT-DSI/onboarding/blob/main/onboarding_documents/submissions.md)**🚨 for detailed instructions on how to format, branch, and submit your work. Following these guidelines is crucial for your submissions to be evaluated correctly.\n",
    "\n",
    "### Submission Parameters:\n",
    "* Submission Due Date: `HH:MM AM/PM - DD/MM/YYYY`\n",
    "* The branch name for your repo should be: `assignment-2`\n",
    "* What to submit for this assignment:\n",
    "    * This Jupyter Notebook (assignment_2.ipynb) should be populated and should be the only change in your pull request.\n",
    "* What the pull request link should look like for this assignment: `https://github.com/<your_github_username>/deep_learning/pull/<pr_id>`\n",
    "    * Open a private window in your browser. Copy and paste the link to your pull request into the address bar. Make sure you can see your pull request properly. This helps the technical facilitator and learning support staff review your submission easily.\n",
    "\n",
    "Checklist:\n",
    "- [ ] Created a branch with the correct naming convention.\n",
    "- [ ] Ensured that the repository is public.\n",
    "- [ ] Reviewed the PR description guidelines and adhered to them.\n",
    "- [ ] Verify that the link is accessible in a private browser window.\n",
    "\n",
    "If you encounter any difficulties or have questions, please don't hesitate to reach out to our team via our Slack at `#cohort-3-help`. Our Technical Facilitators and Learning Support staff are here to help you navigate any challenges."
   ]
  }
 ],
 "metadata": {
  "accelerator": "GPU",
  "colab": {
   "gpuType": "T4",
   "provenance": []
  },
  "kernelspec": {
   "display_name": "Python 3 (ipykernel)",
   "language": "python",
   "name": "python3"
  },
  "language_info": {
   "codemirror_mode": {
    "name": "ipython",
    "version": 3
   },
   "file_extension": ".py",
   "mimetype": "text/x-python",
   "name": "python",
   "nbconvert_exporter": "python",
   "pygments_lexer": "ipython3",
   "version": "3.9.19"
  }
 },
 "nbformat": 4,
 "nbformat_minor": 5
}
